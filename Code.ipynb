{
  "cells": [
    {
      "cell_type": "code",
      "execution_count": 1,
      "metadata": {
        "id": "pzRYc88_mgl0"
      },
      "outputs": [],
      "source": [
        "import pandas as pd\n",
        "import re\n",
        "from nltk.corpus import stopwords\n",
        "from Sastrawi.Stemmer.StemmerFactory import StemmerFactory"
      ]
    },
    {
      "cell_type": "code",
      "execution_count": 2,
      "metadata": {
        "id": "tOPfkQQGmwF9"
      },
      "outputs": [
        {
          "data": {
            "text/html": [
              "<div>\n",
              "<style scoped>\n",
              "    .dataframe tbody tr th:only-of-type {\n",
              "        vertical-align: middle;\n",
              "    }\n",
              "\n",
              "    .dataframe tbody tr th {\n",
              "        vertical-align: top;\n",
              "    }\n",
              "\n",
              "    .dataframe thead th {\n",
              "        text-align: right;\n",
              "    }\n",
              "</style>\n",
              "<table border=\"1\" class=\"dataframe\">\n",
              "  <thead>\n",
              "    <tr style=\"text-align: right;\">\n",
              "      <th></th>\n",
              "      <th>no</th>\n",
              "      <th>Comment</th>\n",
              "      <th>Label</th>\n",
              "    </tr>\n",
              "  </thead>\n",
              "  <tbody>\n",
              "    <tr>\n",
              "      <th>0</th>\n",
              "      <td>1</td>\n",
              "      <td>Alhamdulillah akhrinyaa kurikulum merdeka bany...</td>\n",
              "      <td>Kontra</td>\n",
              "    </tr>\n",
              "    <tr>\n",
              "      <th>1</th>\n",
              "      <td>2</td>\n",
              "      <td>Zonasi bikin ribet</td>\n",
              "      <td>Kontra</td>\n",
              "    </tr>\n",
              "    <tr>\n",
              "      <th>2</th>\n",
              "      <td>4</td>\n",
              "      <td>Kalau bisa sekolah SMA&lt;br&gt;Juga  kabupaten &lt;br&gt;...</td>\n",
              "      <td>Kontra</td>\n",
              "    </tr>\n",
              "    <tr>\n",
              "      <th>3</th>\n",
              "      <td>5</td>\n",
              "      <td>Syukurlah...</td>\n",
              "      <td>Pro</td>\n",
              "    </tr>\n",
              "    <tr>\n",
              "      <th>4</th>\n",
              "      <td>6</td>\n",
              "      <td>Kurikulum merdeka , pebisnis aplikasi dan LKS ...</td>\n",
              "      <td>Kontra</td>\n",
              "    </tr>\n",
              "    <tr>\n",
              "      <th>...</th>\n",
              "      <td>...</td>\n",
              "      <td>...</td>\n",
              "      <td>...</td>\n",
              "    </tr>\n",
              "    <tr>\n",
              "      <th>933</th>\n",
              "      <td>1382</td>\n",
              "      <td>Salam Merdeka Belajar... manfaatkan segala pot...</td>\n",
              "      <td>Pro</td>\n",
              "    </tr>\n",
              "    <tr>\n",
              "      <th>934</th>\n",
              "      <td>1383</td>\n",
              "      <td>Saya salut dengan program pak Nadiem yg satu i...</td>\n",
              "      <td>Pro</td>\n",
              "    </tr>\n",
              "    <tr>\n",
              "      <th>935</th>\n",
              "      <td>1384</td>\n",
              "      <td>Wah....oke juga programnya nih, mengakomodir y...</td>\n",
              "      <td>Pro</td>\n",
              "    </tr>\n",
              "    <tr>\n",
              "      <th>936</th>\n",
              "      <td>1385</td>\n",
              "      <td>terimakasih kampus merdeka. program program ny...</td>\n",
              "      <td>Pro</td>\n",
              "    </tr>\n",
              "    <tr>\n",
              "      <th>937</th>\n",
              "      <td>1386</td>\n",
              "      <td>program yg bagus, dng syarat, sosialisasi yg j...</td>\n",
              "      <td>Pro</td>\n",
              "    </tr>\n",
              "  </tbody>\n",
              "</table>\n",
              "<p>938 rows × 3 columns</p>\n",
              "</div>"
            ],
            "text/plain": [
              "       no                                            Comment   Label\n",
              "0       1  Alhamdulillah akhrinyaa kurikulum merdeka bany...  Kontra\n",
              "1       2                                 Zonasi bikin ribet  Kontra\n",
              "2       4  Kalau bisa sekolah SMA<br>Juga  kabupaten <br>...  Kontra\n",
              "3       5                                       Syukurlah...     Pro\n",
              "4       6  Kurikulum merdeka , pebisnis aplikasi dan LKS ...  Kontra\n",
              "..    ...                                                ...     ...\n",
              "933  1382  Salam Merdeka Belajar... manfaatkan segala pot...     Pro\n",
              "934  1383  Saya salut dengan program pak Nadiem yg satu i...     Pro\n",
              "935  1384  Wah....oke juga programnya nih, mengakomodir y...     Pro\n",
              "936  1385  terimakasih kampus merdeka. program program ny...     Pro\n",
              "937  1386  program yg bagus, dng syarat, sosialisasi yg j...     Pro\n",
              "\n",
              "[938 rows x 3 columns]"
            ]
          },
          "execution_count": 2,
          "metadata": {},
          "output_type": "execute_result"
        }
      ],
      "source": [
        "# Load data (adjust the column names accordingly)\n",
        "data = pd.read_excel('data_tm.xlsx')\n",
        "data.rename(columns={'comment': 'Comment','Label (Ridho)': 'Label'}, inplace=True)\n",
        "data"
      ]
    },
    {
      "cell_type": "code",
      "execution_count": 3,
      "metadata": {},
      "outputs": [
        {
          "data": {
            "text/plain": [
              "count        938\n",
              "unique       927\n",
              "top       Mantap\n",
              "freq           4\n",
              "Name: Comment, dtype: object"
            ]
          },
          "execution_count": 3,
          "metadata": {},
          "output_type": "execute_result"
        }
      ],
      "source": [
        "data['Comment'].describe()\n",
        "\n"
      ]
    },
    {
      "cell_type": "code",
      "execution_count": 4,
      "metadata": {},
      "outputs": [
        {
          "data": {
            "text/plain": [
              "count    938.000000\n",
              "mean      24.961620\n",
              "std       32.211823\n",
              "min        1.000000\n",
              "25%        8.000000\n",
              "50%       16.000000\n",
              "75%       29.000000\n",
              "max      457.000000\n",
              "Name: word_count, dtype: float64"
            ]
          },
          "execution_count": 4,
          "metadata": {},
          "output_type": "execute_result"
        }
      ],
      "source": [
        "data['word_count'] = data['Comment'].apply(lambda x: len(x.split()))\n",
        "data['word_count'].describe()"
      ]
    },
    {
      "cell_type": "markdown",
      "metadata": {
        "id": "4QvDzIF6m9v-"
      },
      "source": [
        "### Preprocessing"
      ]
    },
    {
      "cell_type": "code",
      "execution_count": 64,
      "metadata": {
        "id": "LoS7WZ02ndIb"
      },
      "outputs": [],
      "source": [
        "# Initialize stemmer for Bahasa Indonesia\n",
        "factory = StemmerFactory()\n",
        "stemmer = factory.create_stemmer()"
      ]
    },
    {
      "cell_type": "code",
      "execution_count": 65,
      "metadata": {
        "colab": {
          "base_uri": "https://localhost:8080/"
        },
        "id": "dUmQyF2qm6Ue",
        "outputId": "7605ed39-125c-4cba-afb2-f52bb6c2c9bd"
      },
      "outputs": [],
      "source": [
        "# Load stopwords for Bahasa Indonesia (ensure NLTK stopwords are installed)\n",
        "try:\n",
        "    stop_words = set(stopwords.words('indonesian'))\n",
        "except:\n",
        "    import nltk\n",
        "    nltk.download('stopwords')\n",
        "    stop_words = set(stopwords.words('indonesian'))\n",
        "\n",
        "def preprocess_text(text):\n",
        "    \"\"\"Clean and preprocess text.\"\"\"\n",
        "    # Remove HTML tags\n",
        "    text = re.sub(r'<[^>]*>', ' ', text)\n",
        "    # Remove non-alphabetic characters\n",
        "    text = re.sub(r'[^a-zA-Z\\s]', '', text)\n",
        "    # Convert to lowercase\n",
        "    text = text.lower()\n",
        "    # Tokenize and remove stopwords\n",
        "    words = text.split()\n",
        "    words = [word for word in words if word not in stop_words]\n",
        "    # Apply stemming\n",
        "    text = ' '.join([stemmer.stem(word) for word in words])\n",
        "    return text\n"
      ]
    },
    {
      "cell_type": "code",
      "execution_count": 66,
      "metadata": {
        "id": "AdU6mYtdnQCp"
      },
      "outputs": [],
      "source": [
        "# Apply preprocessing to the comments\n",
        "data['Cleaned_Comment'] = data['Comment'].apply(preprocess_text)"
      ]
    },
    {
      "cell_type": "markdown",
      "metadata": {
        "id": "2XYBaIKhqVo9"
      },
      "source": []
    },
    {
      "cell_type": "code",
      "execution_count": 70,
      "metadata": {
        "id": "bJH7zh1spERk"
      },
      "outputs": [
        {
          "data": {
            "text/html": [
              "<div>\n",
              "<style scoped>\n",
              "    .dataframe tbody tr th:only-of-type {\n",
              "        vertical-align: middle;\n",
              "    }\n",
              "\n",
              "    .dataframe tbody tr th {\n",
              "        vertical-align: top;\n",
              "    }\n",
              "\n",
              "    .dataframe thead th {\n",
              "        text-align: right;\n",
              "    }\n",
              "</style>\n",
              "<table border=\"1\" class=\"dataframe\">\n",
              "  <thead>\n",
              "    <tr style=\"text-align: right;\">\n",
              "      <th></th>\n",
              "      <th>no</th>\n",
              "      <th>Comment</th>\n",
              "      <th>Label</th>\n",
              "      <th>word_count</th>\n",
              "      <th>Cleaned_Comment</th>\n",
              "    </tr>\n",
              "  </thead>\n",
              "  <tbody>\n",
              "    <tr>\n",
              "      <th>0</th>\n",
              "      <td>1</td>\n",
              "      <td>Alhamdulillah akhrinyaa kurikulum merdeka bany...</td>\n",
              "      <td>Kontra</td>\n",
              "      <td>21</td>\n",
              "      <td>alhamdulillah akhrinyaa kurikulum merdeka bany...</td>\n",
              "    </tr>\n",
              "    <tr>\n",
              "      <th>1</th>\n",
              "      <td>2</td>\n",
              "      <td>Zonasi bikin ribet</td>\n",
              "      <td>Kontra</td>\n",
              "      <td>3</td>\n",
              "      <td>zonasi bikin ribet</td>\n",
              "    </tr>\n",
              "    <tr>\n",
              "      <th>2</th>\n",
              "      <td>4</td>\n",
              "      <td>Kalau bisa sekolah SMA&lt;br&gt;Juga  kabupaten &lt;br&gt;...</td>\n",
              "      <td>Kontra</td>\n",
              "      <td>7</td>\n",
              "      <td>sekolah sma kabupaten propinsi</td>\n",
              "    </tr>\n",
              "    <tr>\n",
              "      <th>3</th>\n",
              "      <td>5</td>\n",
              "      <td>Syukurlah...</td>\n",
              "      <td>Pro</td>\n",
              "      <td>1</td>\n",
              "      <td>syukur</td>\n",
              "    </tr>\n",
              "    <tr>\n",
              "      <th>4</th>\n",
              "      <td>6</td>\n",
              "      <td>Kurikulum merdeka , pebisnis aplikasi dan LKS ...</td>\n",
              "      <td>Kontra</td>\n",
              "      <td>31</td>\n",
              "      <td>kurikulum merdeka bisnis aplikasi lks yg merde...</td>\n",
              "    </tr>\n",
              "    <tr>\n",
              "      <th>...</th>\n",
              "      <td>...</td>\n",
              "      <td>...</td>\n",
              "      <td>...</td>\n",
              "      <td>...</td>\n",
              "      <td>...</td>\n",
              "    </tr>\n",
              "    <tr>\n",
              "      <th>933</th>\n",
              "      <td>1382</td>\n",
              "      <td>Salam Merdeka Belajar... manfaatkan segala pot...</td>\n",
              "      <td>Pro</td>\n",
              "      <td>32</td>\n",
              "      <td>salam merdeka ajar manfaat potensi makna kelas...</td>\n",
              "    </tr>\n",
              "    <tr>\n",
              "      <th>934</th>\n",
              "      <td>1383</td>\n",
              "      <td>Saya salut dengan program pak Nadiem yg satu i...</td>\n",
              "      <td>Pro</td>\n",
              "      <td>63</td>\n",
              "      <td>salut program nadiem yg sy jg daftar program g...</td>\n",
              "    </tr>\n",
              "    <tr>\n",
              "      <th>935</th>\n",
              "      <td>1384</td>\n",
              "      <td>Wah....oke juga programnya nih, mengakomodir y...</td>\n",
              "      <td>Pro</td>\n",
              "      <td>21</td>\n",
              "      <td>wahoke program nih mengakomodir alam praktis n...</td>\n",
              "    </tr>\n",
              "    <tr>\n",
              "      <th>936</th>\n",
              "      <td>1385</td>\n",
              "      <td>terimakasih kampus merdeka. program program ny...</td>\n",
              "      <td>Pro</td>\n",
              "      <td>13</td>\n",
              "      <td>terimakasih kampus merdeka program program nya...</td>\n",
              "    </tr>\n",
              "    <tr>\n",
              "      <th>937</th>\n",
              "      <td>1386</td>\n",
              "      <td>program yg bagus, dng syarat, sosialisasi yg j...</td>\n",
              "      <td>Pro</td>\n",
              "      <td>19</td>\n",
              "      <td>program yg bagus dng syarat sosialisasi yg mud...</td>\n",
              "    </tr>\n",
              "  </tbody>\n",
              "</table>\n",
              "<p>938 rows × 5 columns</p>\n",
              "</div>"
            ],
            "text/plain": [
              "       no                                            Comment   Label  \\\n",
              "0       1  Alhamdulillah akhrinyaa kurikulum merdeka bany...  Kontra   \n",
              "1       2                                 Zonasi bikin ribet  Kontra   \n",
              "2       4  Kalau bisa sekolah SMA<br>Juga  kabupaten <br>...  Kontra   \n",
              "3       5                                       Syukurlah...     Pro   \n",
              "4       6  Kurikulum merdeka , pebisnis aplikasi dan LKS ...  Kontra   \n",
              "..    ...                                                ...     ...   \n",
              "933  1382  Salam Merdeka Belajar... manfaatkan segala pot...     Pro   \n",
              "934  1383  Saya salut dengan program pak Nadiem yg satu i...     Pro   \n",
              "935  1384  Wah....oke juga programnya nih, mengakomodir y...     Pro   \n",
              "936  1385  terimakasih kampus merdeka. program program ny...     Pro   \n",
              "937  1386  program yg bagus, dng syarat, sosialisasi yg j...     Pro   \n",
              "\n",
              "     word_count                                    Cleaned_Comment  \n",
              "0            21  alhamdulillah akhrinyaa kurikulum merdeka bany...  \n",
              "1             3                                 zonasi bikin ribet  \n",
              "2             7                     sekolah sma kabupaten propinsi  \n",
              "3             1                                             syukur  \n",
              "4            31  kurikulum merdeka bisnis aplikasi lks yg merde...  \n",
              "..          ...                                                ...  \n",
              "933          32  salam merdeka ajar manfaat potensi makna kelas...  \n",
              "934          63  salut program nadiem yg sy jg daftar program g...  \n",
              "935          21  wahoke program nih mengakomodir alam praktis n...  \n",
              "936          13  terimakasih kampus merdeka program program nya...  \n",
              "937          19  program yg bagus dng syarat sosialisasi yg mud...  \n",
              "\n",
              "[938 rows x 5 columns]"
            ]
          },
          "execution_count": 70,
          "metadata": {},
          "output_type": "execute_result"
        }
      ],
      "source": [
        "data"
      ]
    },
    {
      "cell_type": "markdown",
      "metadata": {
        "id": "rXYlOUhhq9Po"
      },
      "source": [
        "### Exploratory Data Analysis"
      ]
    },
    {
      "cell_type": "code",
      "execution_count": 71,
      "metadata": {
        "id": "m4GFMEB7rTLT"
      },
      "outputs": [],
      "source": [
        "import pandas as pd\n",
        "import matplotlib.pyplot as plt\n",
        "import seaborn as sns\n",
        "from sklearn.utils import resample"
      ]
    },
    {
      "cell_type": "code",
      "execution_count": 72,
      "metadata": {
        "id": "VqIhBxXnrA9o"
      },
      "outputs": [
        {
          "name": "stdout",
          "output_type": "stream",
          "text": [
            "Shape of the dataset: (938, 5)\n"
          ]
        }
      ],
      "source": [
        "# 1. Shape of the data\n",
        "print(\"Shape of the dataset:\", data.shape)"
      ]
    },
    {
      "cell_type": "code",
      "execution_count": 73,
      "metadata": {
        "id": "ZZSH9FcqrIVR"
      },
      "outputs": [
        {
          "name": "stdout",
          "output_type": "stream",
          "text": [
            "Label Distribution:\n",
            " Label\n",
            "Kontra    547\n",
            "Pro       391\n",
            "Name: count, dtype: int64\n"
          ]
        }
      ],
      "source": [
        "# 2. Distribution of labels\n",
        "# Distribusi label dihitung untuk mengetahui proporsi data 'Pro' dan 'Kontra'. Pastikan kolom label benar-benar bersih dan konsisten.\n",
        "label_distribution = data['Label'].value_counts()\n",
        "print(\"Label Distribution:\\n\", label_distribution)"
      ]
    },
    {
      "cell_type": "markdown",
      "metadata": {
        "id": "m-1dBTDI5Bfm"
      },
      "source": [
        "karna jumlah data imbalance dan dikhawatirkan akan terjadi overfitting maka kita akan melakukan cuting pada data yang memiliki jumlah kata dibawah 10"
      ]
    },
    {
      "cell_type": "code",
      "execution_count": 74,
      "metadata": {
        "id": "tjuO3IlY5As-"
      },
      "outputs": [],
      "source": [
        "valid_kontra = data[(data['Label'] == 'Kontra') & (data['Cleaned_Comment'].apply(len) > 10)]\n",
        "label_pro = data[data['Label'] == 'Pro']"
      ]
    },
    {
      "cell_type": "code",
      "execution_count": 75,
      "metadata": {
        "id": "mJZKywp549Jm"
      },
      "outputs": [],
      "source": [
        "# Mengurangi jumlah data 'Kontra' agar seimbang dengan 'Pro'\n",
        "label_kontra_downsampled = resample(valid_kontra,\n",
        "                                    replace=False,\n",
        "                                    n_samples=len(label_pro),\n",
        "                                    random_state=42)"
      ]
    },
    {
      "cell_type": "code",
      "execution_count": 76,
      "metadata": {
        "id": "ZuAqQQj3WXHH"
      },
      "outputs": [],
      "source": [
        "# Menggabungkan dataset yang telah diseimbangkan\n",
        "balanced_data = pd.concat([label_pro, label_kontra_downsampled])\n",
        "\n",
        "# Mengacak dataset\n",
        "balanced_data = balanced_data.sample(frac=1, random_state=42).reset_index(drop=True)"
      ]
    },
    {
      "cell_type": "code",
      "execution_count": 77,
      "metadata": {
        "id": "ihYNRP1s6iyn"
      },
      "outputs": [
        {
          "name": "stdout",
          "output_type": "stream",
          "text": [
            "Distribusi Label Setelah Penyeimbangan:\n",
            " Label\n",
            "Kontra    391\n",
            "Pro       391\n",
            "Name: count, dtype: int64\n"
          ]
        }
      ],
      "source": [
        "# Periksa distribusi baru\n",
        "print(\"Distribusi Label Setelah Penyeimbangan:\\n\", balanced_data['Label'].value_counts())"
      ]
    },
    {
      "cell_type": "code",
      "execution_count": 78,
      "metadata": {
        "id": "FceBRhDdrOnK"
      },
      "outputs": [
        {
          "data": {
            "image/png": "[encoded data removed]",
            "text/plain": [
              "<Figure size 800x600 with 1 Axes>"
            ]
          },
          "metadata": {},
          "output_type": "display_data"
        }
      ],
      "source": [
        "# Plot distribusi label setelah penyeimbangan\n",
        "plt.figure(figsize=(8, 6))\n",
        "balanced_data['Label'].value_counts().plot(kind='bar', color=['skyblue', 'salmon'])\n",
        "plt.title('Distribusi Label Setelah Penyeimbangan')\n",
        "plt.xlabel('Label')\n",
        "plt.ylabel('Jumlah')\n",
        "plt.xticks(rotation=0)\n",
        "plt.show()"
      ]
    },
    {
      "cell_type": "code",
      "execution_count": 79,
      "metadata": {
        "id": "pi1_3cUDBues"
      },
      "outputs": [
        {
          "name": "stdout",
          "output_type": "stream",
          "text": [
            "File berhasil disimpan di: C:/Users/Lenovo/Documents/RIDHO'S LIFE/Dodoo/KULIAH/Semester 5/Text Mining/AOL/balanced_data.xlsx\n"
          ]
        }
      ],
      "source": [
        "import os\n",
        "\n",
        "# Path untuk menyimpan file\n",
        "output_path = \"C:/Users/Lenovo/Documents/RIDHO'S LIFE/Dodoo/KULIAH/Semester 5/Text Mining/AOL/balanced_data.xlsx\"\n",
        "\n",
        "# Simpan file ke path tersebut\n",
        "balanced_data.to_excel(output_path, index=False)\n",
        "\n",
        "print(f\"File berhasil disimpan di: {output_path}\")\n"
      ]
    },
    {
      "cell_type": "code",
      "execution_count": 16,
      "metadata": {},
      "outputs": [],
      "source": [
        "data = pd.read_excel('balanced_data.xlsx')"
      ]
    },
    {
      "cell_type": "code",
      "execution_count": 17,
      "metadata": {},
      "outputs": [],
      "source": [
        "data['Comment_Length'] = data['Comment'].apply(len)\n",
        "data['Cleaned_Comment_Length'] = data['Cleaned_Comment'].apply(len)\n",
        "\n"
      ]
    },
    {
      "cell_type": "code",
      "execution_count": 18,
      "metadata": {},
      "outputs": [
        {
          "name": "stdout",
          "output_type": "stream",
          "text": [
            "Statistik Panjang Komentar (Original):\n",
            " count     782.000000\n",
            "mean      176.029412\n",
            "std       227.417130\n",
            "min         6.000000\n",
            "25%        59.000000\n",
            "50%       118.000000\n",
            "75%       203.000000\n",
            "max      3033.000000\n",
            "Name: Comment_Length, dtype: float64\n",
            "Statistik Panjang Komentar (Cleaned):\n",
            " count     782.000000\n",
            "mean      100.556266\n",
            "std       118.948859\n",
            "min         5.000000\n",
            "25%        37.000000\n",
            "50%        69.000000\n",
            "75%       120.750000\n",
            "max      1600.000000\n",
            "Name: Cleaned_Comment_Length, dtype: float64\n"
          ]
        }
      ],
      "source": [
        "# Statistik deskriptif untuk panjang komentar\n",
        "print(\"Statistik Panjang Komentar (Original):\\n\", data['Comment_Length'].describe())\n",
        "print(\"Statistik Panjang Komentar (Cleaned):\\n\", data['Cleaned_Comment_Length'].describe())"
      ]
    },
    {
      "cell_type": "code",
      "execution_count": 19,
      "metadata": {},
      "outputs": [],
      "source": [
        "from collections import Counter"
      ]
    },
    {
      "cell_type": "code",
      "execution_count": 20,
      "metadata": {},
      "outputs": [],
      "source": [
        "# Tokenisasi komentar yang telah dibersihkan\n",
        "tokenized_words = ' '.join(data['Cleaned_Comment']).split()\n",
        "word_counts = Counter(tokenized_words)"
      ]
    },
    {
      "cell_type": "code",
      "execution_count": 21,
      "metadata": {},
      "outputs": [
        {
          "name": "stdout",
          "output_type": "stream",
          "text": [
            "Kata yang Paling Umum:\n",
            "          Word  Frequency\n",
            "0     merdeka        335\n",
            "1          yg        329\n",
            "2        ajar        305\n",
            "3   kurikulum        305\n",
            "4        guru        264\n",
            "5       didik        226\n",
            "6        anak        223\n",
            "7     sekolah        139\n",
            "8     program        126\n",
            "9     menteri        102\n",
            "10      siswa         95\n",
            "11        tri         91\n",
            "12  indonesia         82\n",
            "13      ganti         75\n",
            "14      hapus         72\n",
            "15     nadiem         70\n",
            "16        mas         64\n",
            "17        nya         63\n",
            "18        tdk         59\n",
            "19       moga         58\n"
          ]
        }
      ],
      "source": [
        "# Kata yang paling umum\n",
        "most_common_words = word_counts.most_common(20)\n",
        "common_words_df = pd.DataFrame(most_common_words, columns=['Word', 'Frequency'])\n",
        "print(\"Kata yang Paling Umum:\\n\", common_words_df)"
      ]
    },
    {
      "cell_type": "code",
      "execution_count": 22,
      "metadata": {},
      "outputs": [
        {
          "name": "stderr",
          "output_type": "stream",
          "text": [
            "C:\\Users\\Lenovo\\AppData\\Local\\Temp\\ipykernel_22116\\3660518028.py:3: FutureWarning: \n",
            "\n",
            "Passing `palette` without assigning `hue` is deprecated and will be removed in v0.14.0. Assign the `y` variable to `hue` and set `legend=False` for the same effect.\n",
            "\n",
            "  sns.barplot(x='Frequency', y='Word', data=common_words_df, palette='viridis')\n"
          ]
        },
        {
          "data": {
            "image/png": "[encoded data removed]",
            "text/plain": [
              "<Figure size 1200x800 with 1 Axes>"
            ]
          },
          "metadata": {},
          "output_type": "display_data"
        }
      ],
      "source": [
        "# Plot kata yang paling umum\n",
        "plt.figure(figsize=(12, 8))\n",
        "sns.barplot(x='Frequency', y='Word', data=common_words_df, palette='viridis')\n",
        "plt.title('20 Kata yang Paling Umum dalam Komentar yang Dibersihkan')\n",
        "plt.xlabel('Frekuensi')\n",
        "plt.ylabel('Kata')\n",
        "plt.show()"
      ]
    },
    {
      "cell_type": "markdown",
      "metadata": {},
      "source": [
        "### Data Split"
      ]
    },
    {
      "cell_type": "code",
      "execution_count": 23,
      "metadata": {},
      "outputs": [],
      "source": [
        "from sklearn.model_selection import train_test_split\n",
        "# Split data menjadi training dan testing\n",
        "X = data['Cleaned_Comment']\n",
        "y = data['Label']\n",
        "X_train, X_test, y_train, y_test = train_test_split(X, y, test_size=0.2, random_state=42, stratify=y)\n"
      ]
    },
    {
      "cell_type": "code",
      "execution_count": 24,
      "metadata": {},
      "outputs": [
        {
          "name": "stdout",
          "output_type": "stream",
          "text": [
            "Jumlah data training: 625\n",
            "Jumlah data testing: 157\n"
          ]
        }
      ],
      "source": [
        "print(\"Jumlah data training:\", len(X_train))\n",
        "print(\"Jumlah data testing:\", len(X_test))"
      ]
    },
    {
      "cell_type": "markdown",
      "metadata": {},
      "source": [
        "### Feature Engineering/Embedding"
      ]
    },
    {
      "cell_type": "code",
      "execution_count": 25,
      "metadata": {},
      "outputs": [
        {
          "name": "stderr",
          "output_type": "stream",
          "text": [
            "c:\\Users\\Lenovo\\env\\Lib\\site-packages\\tqdm\\auto.py:21: TqdmWarning: IProgress not found. Please update jupyter and ipywidgets. See https://ipywidgets.readthedocs.io/en/stable/user_install.html\n",
            "  from .autonotebook import tqdm as notebook_tqdm\n"
          ]
        }
      ],
      "source": [
        "from gensim.models.doc2vec import Doc2Vec, TaggedDocument\n",
        "from transformers import BertTokenizer, BertModel\n",
        "import torch"
      ]
    },
    {
      "cell_type": "markdown",
      "metadata": {},
      "source": [
        "#### 1. Doc2Vec\n",
        "Alasan menggunakan Doc2Vec :\n",
        "- Efisien pada Dataset Sedang hingga Kecil: Doc2Vec bekerja baik pada dataset yang tidak terlalu besar.\n",
        "Representasi dokumen langsung diperoleh sebagai vektor, memudahkan integrasi dengan model machine learning sederhana.\n",
        "- Relatif Cepat:\n",
        "Doc2Vec lebih ringan dibandingkan model BERT, sehingga cocok untuk proyek dengan keterbatasan waktu atau sumber daya komputasi.\n",
        "- Customizable: Kita dapat menyesuaikan parameter seperti ukuran vektor, metode pelatihan (Distributed Memory atau Distributed Bag of Words), dll.\n",
        "- Cocok untuk Teks Pendek: Komentar pengguna biasanya pendek, sehingga Doc2Vec dapat menangkap pola dengan baik.\n"
      ]
    },
    {
      "cell_type": "code",
      "execution_count": 26,
      "metadata": {},
      "outputs": [],
      "source": [
        "documents = [TaggedDocument(words=text.split(), \n",
        "                            tags=[i]) for i, text in enumerate(X_train)]\n"
      ]
    },
    {
      "cell_type": "code",
      "execution_count": 27,
      "metadata": {},
      "outputs": [],
      "source": [
        "doc2vec_model = Doc2Vec(documents, vector_size=100, window=5,\n",
        "                        min_count=2, workers=4, epochs=40)\n"
      ]
    },
    {
      "cell_type": "code",
      "execution_count": 28,
      "metadata": {},
      "outputs": [],
      "source": [
        "X_train_doc2vec = [doc2vec_model.infer_vector(text.split()) for text in X_train]\n",
        "X_test_doc2vec = [doc2vec_model.infer_vector(text.split()) for text in X_test]\n"
      ]
    },
    {
      "cell_type": "markdown",
      "metadata": {},
      "source": [
        "#### Modelling"
      ]
    },
    {
      "cell_type": "markdown",
      "metadata": {},
      "source": [
        "##### 1.1.1 Baseline (Logistic Regression )"
      ]
    },
    {
      "cell_type": "code",
      "execution_count": 29,
      "metadata": {},
      "outputs": [],
      "source": [
        "from sklearn.linear_model import LogisticRegression\n",
        "from sklearn.metrics import classification_report, accuracy_score\n"
      ]
    },
    {
      "cell_type": "code",
      "execution_count": 30,
      "metadata": {},
      "outputs": [
        {
          "data": {
            "text/html": [
              "<style>#sk-container-id-1 {color: black;background-color: white;}#sk-container-id-1 pre{padding: 0;}#sk-container-id-1 div.sk-toggleable {background-color: white;}#sk-container-id-1 label.sk-toggleable__label {cursor: pointer;display: block;width: 100%;margin-bottom: 0;padding: 0.3em;box-sizing: border-box;text-align: center;}#sk-container-id-1 label.sk-toggleable__label-arrow:before {content: \"▸\";float: left;margin-right: 0.25em;color: #696969;}#sk-container-id-1 label.sk-toggleable__label-arrow:hover:before {color: black;}#sk-container-id-1 div.sk-estimator:hover label.sk-toggleable__label-arrow:before {color: black;}#sk-container-id-1 div.sk-toggleable__content {max-height: 0;max-width: 0;overflow: hidden;text-align: left;background-color: #f0f8ff;}#sk-container-id-1 div.sk-toggleable__content pre {margin: 0.2em;color: black;border-radius: 0.25em;background-color: #f0f8ff;}#sk-container-id-1 input.sk-toggleable__control:checked~div.sk-toggleable__content {max-height: 200px;max-width: 100%;overflow: auto;}#sk-container-id-1 input.sk-toggleable__control:checked~label.sk-toggleable__label-arrow:before {content: \"▾\";}#sk-container-id-1 div.sk-estimator input.sk-toggleable__control:checked~label.sk-toggleable__label {background-color: #d4ebff;}#sk-container-id-1 div.sk-label input.sk-toggleable__control:checked~label.sk-toggleable__label {background-color: #d4ebff;}#sk-container-id-1 input.sk-hidden--visually {border: 0;clip: rect(1px 1px 1px 1px);clip: rect(1px, 1px, 1px, 1px);height: 1px;margin: -1px;overflow: hidden;padding: 0;position: absolute;width: 1px;}#sk-container-id-1 div.sk-estimator {font-family: monospace;background-color: #f0f8ff;border: 1px dotted black;border-radius: 0.25em;box-sizing: border-box;margin-bottom: 0.5em;}#sk-container-id-1 div.sk-estimator:hover {background-color: #d4ebff;}#sk-container-id-1 div.sk-parallel-item::after {content: \"\";width: 100%;border-bottom: 1px solid gray;flex-grow: 1;}#sk-container-id-1 div.sk-label:hover label.sk-toggleable__label {background-color: #d4ebff;}#sk-container-id-1 div.sk-serial::before {content: \"\";position: absolute;border-left: 1px solid gray;box-sizing: border-box;top: 0;bottom: 0;left: 50%;z-index: 0;}#sk-container-id-1 div.sk-serial {display: flex;flex-direction: column;align-items: center;background-color: white;padding-right: 0.2em;padding-left: 0.2em;position: relative;}#sk-container-id-1 div.sk-item {position: relative;z-index: 1;}#sk-container-id-1 div.sk-parallel {display: flex;align-items: stretch;justify-content: center;background-color: white;position: relative;}#sk-container-id-1 div.sk-item::before, #sk-container-id-1 div.sk-parallel-item::before {content: \"\";position: absolute;border-left: 1px solid gray;box-sizing: border-box;top: 0;bottom: 0;left: 50%;z-index: -1;}#sk-container-id-1 div.sk-parallel-item {display: flex;flex-direction: column;z-index: 1;position: relative;background-color: white;}#sk-container-id-1 div.sk-parallel-item:first-child::after {align-self: flex-end;width: 50%;}#sk-container-id-1 div.sk-parallel-item:last-child::after {align-self: flex-start;width: 50%;}#sk-container-id-1 div.sk-parallel-item:only-child::after {width: 0;}#sk-container-id-1 div.sk-dashed-wrapped {border: 1px dashed gray;margin: 0 0.4em 0.5em 0.4em;box-sizing: border-box;padding-bottom: 0.4em;background-color: white;}#sk-container-id-1 div.sk-label label {font-family: monospace;font-weight: bold;display: inline-block;line-height: 1.2em;}#sk-container-id-1 div.sk-label-container {text-align: center;}#sk-container-id-1 div.sk-container {/* jupyter's `normalize.less` sets `[hidden] { display: none; }` but bootstrap.min.css set `[hidden] { display: none !important; }` so we also need the `!important` here to be able to override the default hidden behavior on the sphinx rendered scikit-learn.org. See: https://github.com/scikit-learn/scikit-learn/issues/21755 */display: inline-block !important;position: relative;}#sk-container-id-1 div.sk-text-repr-fallback {display: none;}</style><div id=\"sk-container-id-1\" class=\"sk-top-container\"><div class=\"sk-text-repr-fallback\"><pre>LogisticRegression(max_iter=1000, random_state=42)</pre><b>In a Jupyter environment, please rerun this cell to show the HTML representation or trust the notebook. <br />On GitHub, the HTML representation is unable to render, please try loading this page with nbviewer.org.</b></div><div class=\"sk-container\" hidden><div class=\"sk-item\"><div class=\"sk-estimator sk-toggleable\"><input class=\"sk-toggleable__control sk-hidden--visually\" id=\"sk-estimator-id-1\" type=\"checkbox\" checked><label for=\"sk-estimator-id-1\" class=\"sk-toggleable__label sk-toggleable__label-arrow\">LogisticRegression</label><div class=\"sk-toggleable__content\"><pre>LogisticRegression(max_iter=1000, random_state=42)</pre></div></div></div></div></div>"
            ],
            "text/plain": [
              "LogisticRegression(max_iter=1000, random_state=42)"
            ]
          },
          "execution_count": 30,
          "metadata": {},
          "output_type": "execute_result"
        }
      ],
      "source": [
        "lr_model = LogisticRegression(max_iter=1000, random_state=42)\n",
        "lr_model.fit(X_train_doc2vec, y_train)\n"
      ]
    },
    {
      "cell_type": "code",
      "execution_count": 31,
      "metadata": {},
      "outputs": [],
      "source": [
        "# Prediksi pada data test\n",
        "y_pred_doc2vec = lr_model.predict(X_test_doc2vec)"
      ]
    },
    {
      "cell_type": "code",
      "execution_count": 32,
      "metadata": {},
      "outputs": [
        {
          "name": "stdout",
          "output_type": "stream",
          "text": [
            "Accuracy (Doc2Vec + Logistic Regression): 0.8089171974522293\n",
            "Classification Report (Doc2Vec):\n",
            "               precision    recall  f1-score   support\n",
            "\n",
            "      Kontra       0.79      0.85      0.82        79\n",
            "         Pro       0.83      0.77      0.80        78\n",
            "\n",
            "    accuracy                           0.81       157\n",
            "   macro avg       0.81      0.81      0.81       157\n",
            "weighted avg       0.81      0.81      0.81       157\n",
            "\n"
          ]
        }
      ],
      "source": [
        "print(\"Accuracy (Doc2Vec + Logistic Regression):\", accuracy_score(y_test, y_pred_doc2vec))\n",
        "print(\"Classification Report (Doc2Vec):\\n\", classification_report(y_test, y_pred_doc2vec))\n"
      ]
    },
    {
      "cell_type": "markdown",
      "metadata": {},
      "source": [
        "##### 1.1.2 Tuning Hyper Parameter Baseline "
      ]
    },
    {
      "cell_type": "code",
      "execution_count": 33,
      "metadata": {},
      "outputs": [],
      "source": [
        "from sklearn.model_selection import GridSearchCV\n",
        "from sklearn.linear_model import LogisticRegression\n",
        "from sklearn.metrics import classification_report, accuracy_score\n"
      ]
    },
    {
      "cell_type": "code",
      "execution_count": 34,
      "metadata": {},
      "outputs": [],
      "source": [
        "lr_model = LogisticRegression(random_state=42)"
      ]
    },
    {
      "cell_type": "code",
      "execution_count": 35,
      "metadata": {},
      "outputs": [],
      "source": [
        "param_grid = {\n",
        "    'penalty': ['l1', 'l2', 'elasticnet', 'none'],  # Jenis regularisasi\n",
        "    'C': [0.01, 0.1, 1, 10, 100],                 # Invers dari kekuatan regularisasi\n",
        "    'solver': ['liblinear', 'saga'],              # Solver untuk optimasi\n",
        "    'max_iter': [100, 500, 1000]                  # Jumlah iterasi maksimum\n",
        "}\n"
      ]
    },
    {
      "cell_type": "code",
      "execution_count": 36,
      "metadata": {},
      "outputs": [
        {
          "name": "stdout",
          "output_type": "stream",
          "text": [
            "Fitting 5 folds for each of 120 candidates, totalling 600 fits\n"
          ]
        },
        {
          "name": "stderr",
          "output_type": "stream",
          "text": [
            "c:\\Users\\Lenovo\\env\\Lib\\site-packages\\sklearn\\model_selection\\_validation.py:378: FitFailedWarning: \n",
            "225 fits failed out of a total of 600.\n",
            "The score on these train-test partitions for these parameters will be set to nan.\n",
            "If these failures are not expected, you can try to debug them by setting error_score='raise'.\n",
            "\n",
            "Below are more details about the failures:\n",
            "--------------------------------------------------------------------------------\n",
            "75 fits failed with the following error:\n",
            "Traceback (most recent call last):\n",
            "  File \"c:\\Users\\Lenovo\\env\\Lib\\site-packages\\sklearn\\model_selection\\_validation.py\", line 686, in _fit_and_score\n",
            "    estimator.fit(X_train, y_train, **fit_params)\n",
            "  File \"c:\\Users\\Lenovo\\env\\Lib\\site-packages\\sklearn\\linear_model\\_logistic.py\", line 1162, in fit\n",
            "    solver = _check_solver(self.solver, self.penalty, self.dual)\n",
            "             ^^^^^^^^^^^^^^^^^^^^^^^^^^^^^^^^^^^^^^^^^^^^^^^^^^^\n",
            "  File \"c:\\Users\\Lenovo\\env\\Lib\\site-packages\\sklearn\\linear_model\\_logistic.py\", line 64, in _check_solver\n",
            "    raise ValueError(\n",
            "ValueError: Only 'saga' solver supports elasticnet penalty, got solver=liblinear.\n",
            "\n",
            "--------------------------------------------------------------------------------\n",
            "75 fits failed with the following error:\n",
            "Traceback (most recent call last):\n",
            "  File \"c:\\Users\\Lenovo\\env\\Lib\\site-packages\\sklearn\\model_selection\\_validation.py\", line 686, in _fit_and_score\n",
            "    estimator.fit(X_train, y_train, **fit_params)\n",
            "  File \"c:\\Users\\Lenovo\\env\\Lib\\site-packages\\sklearn\\linear_model\\_logistic.py\", line 1291, in fit\n",
            "    fold_coefs_ = Parallel(n_jobs=self.n_jobs, verbose=self.verbose, prefer=prefer)(\n",
            "                  ^^^^^^^^^^^^^^^^^^^^^^^^^^^^^^^^^^^^^^^^^^^^^^^^^^^^^^^^^^^^^^^^^^\n",
            "  File \"c:\\Users\\Lenovo\\env\\Lib\\site-packages\\sklearn\\utils\\parallel.py\", line 63, in __call__\n",
            "    return super().__call__(iterable_with_config)\n",
            "           ^^^^^^^^^^^^^^^^^^^^^^^^^^^^^^^^^^^^^^\n",
            "  File \"c:\\Users\\Lenovo\\env\\Lib\\site-packages\\joblib\\parallel.py\", line 1918, in __call__\n",
            "    return output if self.return_generator else list(output)\n",
            "                                                ^^^^^^^^^^^^\n",
            "  File \"c:\\Users\\Lenovo\\env\\Lib\\site-packages\\joblib\\parallel.py\", line 1847, in _get_sequential_output\n",
            "    res = func(*args, **kwargs)\n",
            "          ^^^^^^^^^^^^^^^^^^^^^\n",
            "  File \"c:\\Users\\Lenovo\\env\\Lib\\site-packages\\sklearn\\utils\\parallel.py\", line 123, in __call__\n",
            "    return self.function(*args, **kwargs)\n",
            "           ^^^^^^^^^^^^^^^^^^^^^^^^^^^^^^\n",
            "  File \"c:\\Users\\Lenovo\\env\\Lib\\site-packages\\sklearn\\linear_model\\_logistic.py\", line 521, in _logistic_regression_path\n",
            "    alpha = (1.0 / C) * (1 - l1_ratio)\n",
            "                         ~~^~~~~~~~~~\n",
            "TypeError: unsupported operand type(s) for -: 'int' and 'NoneType'\n",
            "\n",
            "--------------------------------------------------------------------------------\n",
            "75 fits failed with the following error:\n",
            "Traceback (most recent call last):\n",
            "  File \"c:\\Users\\Lenovo\\env\\Lib\\site-packages\\sklearn\\model_selection\\_validation.py\", line 686, in _fit_and_score\n",
            "    estimator.fit(X_train, y_train, **fit_params)\n",
            "  File \"c:\\Users\\Lenovo\\env\\Lib\\site-packages\\sklearn\\linear_model\\_logistic.py\", line 1162, in fit\n",
            "    solver = _check_solver(self.solver, self.penalty, self.dual)\n",
            "             ^^^^^^^^^^^^^^^^^^^^^^^^^^^^^^^^^^^^^^^^^^^^^^^^^^^\n",
            "  File \"c:\\Users\\Lenovo\\env\\Lib\\site-packages\\sklearn\\linear_model\\_logistic.py\", line 71, in _check_solver\n",
            "    raise ValueError(\"penalty='none' is not supported for the liblinear solver\")\n",
            "ValueError: penalty='none' is not supported for the liblinear solver\n",
            "\n",
            "  warnings.warn(some_fits_failed_message, FitFailedWarning)\n",
            "c:\\Users\\Lenovo\\env\\Lib\\site-packages\\sklearn\\model_selection\\_search.py:952: UserWarning: One or more of the test scores are non-finite: [0.4992 0.4976 0.7392 0.752     nan    nan    nan 0.7536 0.4992 0.4976\n",
            " 0.7392 0.752     nan    nan    nan 0.7712 0.4992 0.4976 0.7392 0.752\n",
            "    nan    nan    nan 0.7808 0.728  0.7392 0.7472 0.7536    nan    nan\n",
            "    nan 0.7536 0.728  0.736  0.7472 0.7536    nan    nan    nan 0.7712\n",
            " 0.728  0.736  0.7472 0.7536    nan    nan    nan 0.7808 0.7424 0.7408\n",
            " 0.7536 0.752     nan    nan    nan 0.7536 0.7424 0.7424 0.7536 0.752\n",
            "    nan    nan    nan 0.7712 0.7424 0.7392 0.7536 0.752     nan    nan\n",
            "    nan 0.7808 0.7984 0.7552 0.7792 0.752     nan    nan    nan 0.7536\n",
            " 0.7984 0.7744 0.7792 0.7712    nan    nan    nan 0.7712 0.7984 0.7776\n",
            " 0.7792 0.7728    nan    nan    nan 0.7808 0.7744 0.752  0.784  0.752\n",
            "    nan    nan    nan 0.7536 0.7744 0.7712 0.784  0.7712    nan    nan\n",
            "    nan 0.7712 0.7744 0.7808 0.784  0.7808    nan    nan    nan 0.7808]\n",
            "  warnings.warn(\n"
          ]
        },
        {
          "data": {
            "text/html": [
              "<style>#sk-container-id-2 {color: black;background-color: white;}#sk-container-id-2 pre{padding: 0;}#sk-container-id-2 div.sk-toggleable {background-color: white;}#sk-container-id-2 label.sk-toggleable__label {cursor: pointer;display: block;width: 100%;margin-bottom: 0;padding: 0.3em;box-sizing: border-box;text-align: center;}#sk-container-id-2 label.sk-toggleable__label-arrow:before {content: \"▸\";float: left;margin-right: 0.25em;color: #696969;}#sk-container-id-2 label.sk-toggleable__label-arrow:hover:before {color: black;}#sk-container-id-2 div.sk-estimator:hover label.sk-toggleable__label-arrow:before {color: black;}#sk-container-id-2 div.sk-toggleable__content {max-height: 0;max-width: 0;overflow: hidden;text-align: left;background-color: #f0f8ff;}#sk-container-id-2 div.sk-toggleable__content pre {margin: 0.2em;color: black;border-radius: 0.25em;background-color: #f0f8ff;}#sk-container-id-2 input.sk-toggleable__control:checked~div.sk-toggleable__content {max-height: 200px;max-width: 100%;overflow: auto;}#sk-container-id-2 input.sk-toggleable__control:checked~label.sk-toggleable__label-arrow:before {content: \"▾\";}#sk-container-id-2 div.sk-estimator input.sk-toggleable__control:checked~label.sk-toggleable__label {background-color: #d4ebff;}#sk-container-id-2 div.sk-label input.sk-toggleable__control:checked~label.sk-toggleable__label {background-color: #d4ebff;}#sk-container-id-2 input.sk-hidden--visually {border: 0;clip: rect(1px 1px 1px 1px);clip: rect(1px, 1px, 1px, 1px);height: 1px;margin: -1px;overflow: hidden;padding: 0;position: absolute;width: 1px;}#sk-container-id-2 div.sk-estimator {font-family: monospace;background-color: #f0f8ff;border: 1px dotted black;border-radius: 0.25em;box-sizing: border-box;margin-bottom: 0.5em;}#sk-container-id-2 div.sk-estimator:hover {background-color: #d4ebff;}#sk-container-id-2 div.sk-parallel-item::after {content: \"\";width: 100%;border-bottom: 1px solid gray;flex-grow: 1;}#sk-container-id-2 div.sk-label:hover label.sk-toggleable__label {background-color: #d4ebff;}#sk-container-id-2 div.sk-serial::before {content: \"\";position: absolute;border-left: 1px solid gray;box-sizing: border-box;top: 0;bottom: 0;left: 50%;z-index: 0;}#sk-container-id-2 div.sk-serial {display: flex;flex-direction: column;align-items: center;background-color: white;padding-right: 0.2em;padding-left: 0.2em;position: relative;}#sk-container-id-2 div.sk-item {position: relative;z-index: 1;}#sk-container-id-2 div.sk-parallel {display: flex;align-items: stretch;justify-content: center;background-color: white;position: relative;}#sk-container-id-2 div.sk-item::before, #sk-container-id-2 div.sk-parallel-item::before {content: \"\";position: absolute;border-left: 1px solid gray;box-sizing: border-box;top: 0;bottom: 0;left: 50%;z-index: -1;}#sk-container-id-2 div.sk-parallel-item {display: flex;flex-direction: column;z-index: 1;position: relative;background-color: white;}#sk-container-id-2 div.sk-parallel-item:first-child::after {align-self: flex-end;width: 50%;}#sk-container-id-2 div.sk-parallel-item:last-child::after {align-self: flex-start;width: 50%;}#sk-container-id-2 div.sk-parallel-item:only-child::after {width: 0;}#sk-container-id-2 div.sk-dashed-wrapped {border: 1px dashed gray;margin: 0 0.4em 0.5em 0.4em;box-sizing: border-box;padding-bottom: 0.4em;background-color: white;}#sk-container-id-2 div.sk-label label {font-family: monospace;font-weight: bold;display: inline-block;line-height: 1.2em;}#sk-container-id-2 div.sk-label-container {text-align: center;}#sk-container-id-2 div.sk-container {/* jupyter's `normalize.less` sets `[hidden] { display: none; }` but bootstrap.min.css set `[hidden] { display: none !important; }` so we also need the `!important` here to be able to override the default hidden behavior on the sphinx rendered scikit-learn.org. See: https://github.com/scikit-learn/scikit-learn/issues/21755 */display: inline-block !important;position: relative;}#sk-container-id-2 div.sk-text-repr-fallback {display: none;}</style><div id=\"sk-container-id-2\" class=\"sk-top-container\"><div class=\"sk-text-repr-fallback\"><pre>GridSearchCV(cv=5, estimator=LogisticRegression(random_state=42), n_jobs=-1,\n",
              "             param_grid={&#x27;C&#x27;: [0.01, 0.1, 1, 10, 100],\n",
              "                         &#x27;max_iter&#x27;: [100, 500, 1000],\n",
              "                         &#x27;penalty&#x27;: [&#x27;l1&#x27;, &#x27;l2&#x27;, &#x27;elasticnet&#x27;, &#x27;none&#x27;],\n",
              "                         &#x27;solver&#x27;: [&#x27;liblinear&#x27;, &#x27;saga&#x27;]},\n",
              "             scoring=&#x27;accuracy&#x27;, verbose=1)</pre><b>In a Jupyter environment, please rerun this cell to show the HTML representation or trust the notebook. <br />On GitHub, the HTML representation is unable to render, please try loading this page with nbviewer.org.</b></div><div class=\"sk-container\" hidden><div class=\"sk-item sk-dashed-wrapped\"><div class=\"sk-label-container\"><div class=\"sk-label sk-toggleable\"><input class=\"sk-toggleable__control sk-hidden--visually\" id=\"sk-estimator-id-2\" type=\"checkbox\" ><label for=\"sk-estimator-id-2\" class=\"sk-toggleable__label sk-toggleable__label-arrow\">GridSearchCV</label><div class=\"sk-toggleable__content\"><pre>GridSearchCV(cv=5, estimator=LogisticRegression(random_state=42), n_jobs=-1,\n",
              "             param_grid={&#x27;C&#x27;: [0.01, 0.1, 1, 10, 100],\n",
              "                         &#x27;max_iter&#x27;: [100, 500, 1000],\n",
              "                         &#x27;penalty&#x27;: [&#x27;l1&#x27;, &#x27;l2&#x27;, &#x27;elasticnet&#x27;, &#x27;none&#x27;],\n",
              "                         &#x27;solver&#x27;: [&#x27;liblinear&#x27;, &#x27;saga&#x27;]},\n",
              "             scoring=&#x27;accuracy&#x27;, verbose=1)</pre></div></div></div><div class=\"sk-parallel\"><div class=\"sk-parallel-item\"><div class=\"sk-item\"><div class=\"sk-label-container\"><div class=\"sk-label sk-toggleable\"><input class=\"sk-toggleable__control sk-hidden--visually\" id=\"sk-estimator-id-3\" type=\"checkbox\" ><label for=\"sk-estimator-id-3\" class=\"sk-toggleable__label sk-toggleable__label-arrow\">estimator: LogisticRegression</label><div class=\"sk-toggleable__content\"><pre>LogisticRegression(random_state=42)</pre></div></div></div><div class=\"sk-serial\"><div class=\"sk-item\"><div class=\"sk-estimator sk-toggleable\"><input class=\"sk-toggleable__control sk-hidden--visually\" id=\"sk-estimator-id-4\" type=\"checkbox\" ><label for=\"sk-estimator-id-4\" class=\"sk-toggleable__label sk-toggleable__label-arrow\">LogisticRegression</label><div class=\"sk-toggleable__content\"><pre>LogisticRegression(random_state=42)</pre></div></div></div></div></div></div></div></div></div></div>"
            ],
            "text/plain": [
              "GridSearchCV(cv=5, estimator=LogisticRegression(random_state=42), n_jobs=-1,\n",
              "             param_grid={'C': [0.01, 0.1, 1, 10, 100],\n",
              "                         'max_iter': [100, 500, 1000],\n",
              "                         'penalty': ['l1', 'l2', 'elasticnet', 'none'],\n",
              "                         'solver': ['liblinear', 'saga']},\n",
              "             scoring='accuracy', verbose=1)"
            ]
          },
          "execution_count": 36,
          "metadata": {},
          "output_type": "execute_result"
        }
      ],
      "source": [
        "grid_search = GridSearchCV(estimator=lr_model, param_grid=param_grid, cv=5, scoring='accuracy', verbose=1, n_jobs=-1)\n",
        "grid_search.fit(X_train_doc2vec, y_train)\n"
      ]
    },
    {
      "cell_type": "code",
      "execution_count": 37,
      "metadata": {},
      "outputs": [
        {
          "name": "stdout",
          "output_type": "stream",
          "text": [
            "Best Hyperparameters: {'C': 10, 'max_iter': 100, 'penalty': 'l1', 'solver': 'liblinear'}\n",
            "Best Cross-Validation Score: 0.7984\n"
          ]
        }
      ],
      "source": [
        "# Menampilkan hasil terbaik\n",
        "print(\"Best Hyperparameters:\", grid_search.best_params_)\n",
        "print(\"Best Cross-Validation Score:\", grid_search.best_score_)"
      ]
    },
    {
      "cell_type": "code",
      "execution_count": 38,
      "metadata": {},
      "outputs": [
        {
          "name": "stdout",
          "output_type": "stream",
          "text": [
            "Accuracy (Test): 0.8343949044585988\n",
            "Classification Report:\n",
            "               precision    recall  f1-score   support\n",
            "\n",
            "      Kontra       0.81      0.87      0.84        79\n",
            "         Pro       0.86      0.79      0.83        78\n",
            "\n",
            "    accuracy                           0.83       157\n",
            "   macro avg       0.84      0.83      0.83       157\n",
            "weighted avg       0.84      0.83      0.83       157\n",
            "\n"
          ]
        }
      ],
      "source": [
        "# Evaluasi pada data test\n",
        "best_model = grid_search.best_estimator_\n",
        "y_pred = best_model.predict(X_test_doc2vec)\n",
        "\n",
        "# Evaluasi performa\n",
        "print(\"Accuracy (Test):\", accuracy_score(y_test, y_pred))\n",
        "print(\"Classification Report:\\n\", classification_report(y_test, y_pred))"
      ]
    },
    {
      "cell_type": "markdown",
      "metadata": {},
      "source": [
        "##### 1.2.1 SVM"
      ]
    },
    {
      "cell_type": "code",
      "execution_count": 39,
      "metadata": {},
      "outputs": [],
      "source": [
        "from sklearn.svm import SVC\n",
        "from sklearn.metrics import classification_report, accuracy_score"
      ]
    },
    {
      "cell_type": "code",
      "execution_count": 40,
      "metadata": {},
      "outputs": [
        {
          "data": {
            "text/html": [
              "<style>#sk-container-id-3 {color: black;background-color: white;}#sk-container-id-3 pre{padding: 0;}#sk-container-id-3 div.sk-toggleable {background-color: white;}#sk-container-id-3 label.sk-toggleable__label {cursor: pointer;display: block;width: 100%;margin-bottom: 0;padding: 0.3em;box-sizing: border-box;text-align: center;}#sk-container-id-3 label.sk-toggleable__label-arrow:before {content: \"▸\";float: left;margin-right: 0.25em;color: #696969;}#sk-container-id-3 label.sk-toggleable__label-arrow:hover:before {color: black;}#sk-container-id-3 div.sk-estimator:hover label.sk-toggleable__label-arrow:before {color: black;}#sk-container-id-3 div.sk-toggleable__content {max-height: 0;max-width: 0;overflow: hidden;text-align: left;background-color: #f0f8ff;}#sk-container-id-3 div.sk-toggleable__content pre {margin: 0.2em;color: black;border-radius: 0.25em;background-color: #f0f8ff;}#sk-container-id-3 input.sk-toggleable__control:checked~div.sk-toggleable__content {max-height: 200px;max-width: 100%;overflow: auto;}#sk-container-id-3 input.sk-toggleable__control:checked~label.sk-toggleable__label-arrow:before {content: \"▾\";}#sk-container-id-3 div.sk-estimator input.sk-toggleable__control:checked~label.sk-toggleable__label {background-color: #d4ebff;}#sk-container-id-3 div.sk-label input.sk-toggleable__control:checked~label.sk-toggleable__label {background-color: #d4ebff;}#sk-container-id-3 input.sk-hidden--visually {border: 0;clip: rect(1px 1px 1px 1px);clip: rect(1px, 1px, 1px, 1px);height: 1px;margin: -1px;overflow: hidden;padding: 0;position: absolute;width: 1px;}#sk-container-id-3 div.sk-estimator {font-family: monospace;background-color: #f0f8ff;border: 1px dotted black;border-radius: 0.25em;box-sizing: border-box;margin-bottom: 0.5em;}#sk-container-id-3 div.sk-estimator:hover {background-color: #d4ebff;}#sk-container-id-3 div.sk-parallel-item::after {content: \"\";width: 100%;border-bottom: 1px solid gray;flex-grow: 1;}#sk-container-id-3 div.sk-label:hover label.sk-toggleable__label {background-color: #d4ebff;}#sk-container-id-3 div.sk-serial::before {content: \"\";position: absolute;border-left: 1px solid gray;box-sizing: border-box;top: 0;bottom: 0;left: 50%;z-index: 0;}#sk-container-id-3 div.sk-serial {display: flex;flex-direction: column;align-items: center;background-color: white;padding-right: 0.2em;padding-left: 0.2em;position: relative;}#sk-container-id-3 div.sk-item {position: relative;z-index: 1;}#sk-container-id-3 div.sk-parallel {display: flex;align-items: stretch;justify-content: center;background-color: white;position: relative;}#sk-container-id-3 div.sk-item::before, #sk-container-id-3 div.sk-parallel-item::before {content: \"\";position: absolute;border-left: 1px solid gray;box-sizing: border-box;top: 0;bottom: 0;left: 50%;z-index: -1;}#sk-container-id-3 div.sk-parallel-item {display: flex;flex-direction: column;z-index: 1;position: relative;background-color: white;}#sk-container-id-3 div.sk-parallel-item:first-child::after {align-self: flex-end;width: 50%;}#sk-container-id-3 div.sk-parallel-item:last-child::after {align-self: flex-start;width: 50%;}#sk-container-id-3 div.sk-parallel-item:only-child::after {width: 0;}#sk-container-id-3 div.sk-dashed-wrapped {border: 1px dashed gray;margin: 0 0.4em 0.5em 0.4em;box-sizing: border-box;padding-bottom: 0.4em;background-color: white;}#sk-container-id-3 div.sk-label label {font-family: monospace;font-weight: bold;display: inline-block;line-height: 1.2em;}#sk-container-id-3 div.sk-label-container {text-align: center;}#sk-container-id-3 div.sk-container {/* jupyter's `normalize.less` sets `[hidden] { display: none; }` but bootstrap.min.css set `[hidden] { display: none !important; }` so we also need the `!important` here to be able to override the default hidden behavior on the sphinx rendered scikit-learn.org. See: https://github.com/scikit-learn/scikit-learn/issues/21755 */display: inline-block !important;position: relative;}#sk-container-id-3 div.sk-text-repr-fallback {display: none;}</style><div id=\"sk-container-id-3\" class=\"sk-top-container\"><div class=\"sk-text-repr-fallback\"><pre>SVC(C=1, kernel=&#x27;linear&#x27;, random_state=42)</pre><b>In a Jupyter environment, please rerun this cell to show the HTML representation or trust the notebook. <br />On GitHub, the HTML representation is unable to render, please try loading this page with nbviewer.org.</b></div><div class=\"sk-container\" hidden><div class=\"sk-item\"><div class=\"sk-estimator sk-toggleable\"><input class=\"sk-toggleable__control sk-hidden--visually\" id=\"sk-estimator-id-5\" type=\"checkbox\" checked><label for=\"sk-estimator-id-5\" class=\"sk-toggleable__label sk-toggleable__label-arrow\">SVC</label><div class=\"sk-toggleable__content\"><pre>SVC(C=1, kernel=&#x27;linear&#x27;, random_state=42)</pre></div></div></div></div></div>"
            ],
            "text/plain": [
              "SVC(C=1, kernel='linear', random_state=42)"
            ]
          },
          "execution_count": 40,
          "metadata": {},
          "output_type": "execute_result"
        }
      ],
      "source": [
        "svm_model = SVC(kernel='linear', C=1, random_state=42)\n",
        "svm_model.fit(X_train_doc2vec, y_train)\n"
      ]
    },
    {
      "cell_type": "code",
      "execution_count": 41,
      "metadata": {},
      "outputs": [],
      "source": [
        "y_pred_svm = svm_model.predict(X_test_doc2vec)"
      ]
    },
    {
      "cell_type": "code",
      "execution_count": 42,
      "metadata": {},
      "outputs": [
        {
          "name": "stdout",
          "output_type": "stream",
          "text": [
            "Accuracy (Doc2Vec + SVM): 0.821656050955414\n",
            "Classification Report (Doc2Vec + SVM):\n",
            "               precision    recall  f1-score   support\n",
            "\n",
            "      Kontra       0.78      0.90      0.84        79\n",
            "         Pro       0.88      0.74      0.81        78\n",
            "\n",
            "    accuracy                           0.82       157\n",
            "   macro avg       0.83      0.82      0.82       157\n",
            "weighted avg       0.83      0.82      0.82       157\n",
            "\n"
          ]
        }
      ],
      "source": [
        "# Evaluasi model\n",
        "accuracy = accuracy_score(y_test, y_pred_svm)\n",
        "print(\"Accuracy (Doc2Vec + SVM):\", accuracy)\n",
        "print(\"Classification Report (Doc2Vec + SVM):\\n\", classification_report(y_test, y_pred_svm))\n"
      ]
    },
    {
      "cell_type": "markdown",
      "metadata": {},
      "source": [
        "##### 1.2.2 Hyperparameter Tuning SVM"
      ]
    },
    {
      "cell_type": "code",
      "execution_count": 43,
      "metadata": {},
      "outputs": [],
      "source": [
        "# Definisikan parameter grid\n",
        "param_grid = {\n",
        "    'C': [0.1, 1, 10, 100],  # Parameter regularisasi\n",
        "    'kernel': ['linear', 'rbf', 'poly'],  # Jenis kernel\n",
        "    'gamma': ['scale', 'auto'],  # Parameter kernel untuk rbf/poly\n",
        "}"
      ]
    },
    {
      "cell_type": "code",
      "execution_count": 44,
      "metadata": {},
      "outputs": [
        {
          "name": "stdout",
          "output_type": "stream",
          "text": [
            "Fitting 5 folds for each of 24 candidates, totalling 120 fits\n"
          ]
        },
        {
          "data": {
            "text/html": [
              "<style>#sk-container-id-4 {color: black;background-color: white;}#sk-container-id-4 pre{padding: 0;}#sk-container-id-4 div.sk-toggleable {background-color: white;}#sk-container-id-4 label.sk-toggleable__label {cursor: pointer;display: block;width: 100%;margin-bottom: 0;padding: 0.3em;box-sizing: border-box;text-align: center;}#sk-container-id-4 label.sk-toggleable__label-arrow:before {content: \"▸\";float: left;margin-right: 0.25em;color: #696969;}#sk-container-id-4 label.sk-toggleable__label-arrow:hover:before {color: black;}#sk-container-id-4 div.sk-estimator:hover label.sk-toggleable__label-arrow:before {color: black;}#sk-container-id-4 div.sk-toggleable__content {max-height: 0;max-width: 0;overflow: hidden;text-align: left;background-color: #f0f8ff;}#sk-container-id-4 div.sk-toggleable__content pre {margin: 0.2em;color: black;border-radius: 0.25em;background-color: #f0f8ff;}#sk-container-id-4 input.sk-toggleable__control:checked~div.sk-toggleable__content {max-height: 200px;max-width: 100%;overflow: auto;}#sk-container-id-4 input.sk-toggleable__control:checked~label.sk-toggleable__label-arrow:before {content: \"▾\";}#sk-container-id-4 div.sk-estimator input.sk-toggleable__control:checked~label.sk-toggleable__label {background-color: #d4ebff;}#sk-container-id-4 div.sk-label input.sk-toggleable__control:checked~label.sk-toggleable__label {background-color: #d4ebff;}#sk-container-id-4 input.sk-hidden--visually {border: 0;clip: rect(1px 1px 1px 1px);clip: rect(1px, 1px, 1px, 1px);height: 1px;margin: -1px;overflow: hidden;padding: 0;position: absolute;width: 1px;}#sk-container-id-4 div.sk-estimator {font-family: monospace;background-color: #f0f8ff;border: 1px dotted black;border-radius: 0.25em;box-sizing: border-box;margin-bottom: 0.5em;}#sk-container-id-4 div.sk-estimator:hover {background-color: #d4ebff;}#sk-container-id-4 div.sk-parallel-item::after {content: \"\";width: 100%;border-bottom: 1px solid gray;flex-grow: 1;}#sk-container-id-4 div.sk-label:hover label.sk-toggleable__label {background-color: #d4ebff;}#sk-container-id-4 div.sk-serial::before {content: \"\";position: absolute;border-left: 1px solid gray;box-sizing: border-box;top: 0;bottom: 0;left: 50%;z-index: 0;}#sk-container-id-4 div.sk-serial {display: flex;flex-direction: column;align-items: center;background-color: white;padding-right: 0.2em;padding-left: 0.2em;position: relative;}#sk-container-id-4 div.sk-item {position: relative;z-index: 1;}#sk-container-id-4 div.sk-parallel {display: flex;align-items: stretch;justify-content: center;background-color: white;position: relative;}#sk-container-id-4 div.sk-item::before, #sk-container-id-4 div.sk-parallel-item::before {content: \"\";position: absolute;border-left: 1px solid gray;box-sizing: border-box;top: 0;bottom: 0;left: 50%;z-index: -1;}#sk-container-id-4 div.sk-parallel-item {display: flex;flex-direction: column;z-index: 1;position: relative;background-color: white;}#sk-container-id-4 div.sk-parallel-item:first-child::after {align-self: flex-end;width: 50%;}#sk-container-id-4 div.sk-parallel-item:last-child::after {align-self: flex-start;width: 50%;}#sk-container-id-4 div.sk-parallel-item:only-child::after {width: 0;}#sk-container-id-4 div.sk-dashed-wrapped {border: 1px dashed gray;margin: 0 0.4em 0.5em 0.4em;box-sizing: border-box;padding-bottom: 0.4em;background-color: white;}#sk-container-id-4 div.sk-label label {font-family: monospace;font-weight: bold;display: inline-block;line-height: 1.2em;}#sk-container-id-4 div.sk-label-container {text-align: center;}#sk-container-id-4 div.sk-container {/* jupyter's `normalize.less` sets `[hidden] { display: none; }` but bootstrap.min.css set `[hidden] { display: none !important; }` so we also need the `!important` here to be able to override the default hidden behavior on the sphinx rendered scikit-learn.org. See: https://github.com/scikit-learn/scikit-learn/issues/21755 */display: inline-block !important;position: relative;}#sk-container-id-4 div.sk-text-repr-fallback {display: none;}</style><div id=\"sk-container-id-4\" class=\"sk-top-container\"><div class=\"sk-text-repr-fallback\"><pre>GridSearchCV(cv=5, estimator=SVC(C=1, kernel=&#x27;linear&#x27;, random_state=42),\n",
              "             n_jobs=-1,\n",
              "             param_grid={&#x27;C&#x27;: [0.1, 1, 10, 100], &#x27;gamma&#x27;: [&#x27;scale&#x27;, &#x27;auto&#x27;],\n",
              "                         &#x27;kernel&#x27;: [&#x27;linear&#x27;, &#x27;rbf&#x27;, &#x27;poly&#x27;]},\n",
              "             scoring=&#x27;accuracy&#x27;, verbose=1)</pre><b>In a Jupyter environment, please rerun this cell to show the HTML representation or trust the notebook. <br />On GitHub, the HTML representation is unable to render, please try loading this page with nbviewer.org.</b></div><div class=\"sk-container\" hidden><div class=\"sk-item sk-dashed-wrapped\"><div class=\"sk-label-container\"><div class=\"sk-label sk-toggleable\"><input class=\"sk-toggleable__control sk-hidden--visually\" id=\"sk-estimator-id-6\" type=\"checkbox\" ><label for=\"sk-estimator-id-6\" class=\"sk-toggleable__label sk-toggleable__label-arrow\">GridSearchCV</label><div class=\"sk-toggleable__content\"><pre>GridSearchCV(cv=5, estimator=SVC(C=1, kernel=&#x27;linear&#x27;, random_state=42),\n",
              "             n_jobs=-1,\n",
              "             param_grid={&#x27;C&#x27;: [0.1, 1, 10, 100], &#x27;gamma&#x27;: [&#x27;scale&#x27;, &#x27;auto&#x27;],\n",
              "                         &#x27;kernel&#x27;: [&#x27;linear&#x27;, &#x27;rbf&#x27;, &#x27;poly&#x27;]},\n",
              "             scoring=&#x27;accuracy&#x27;, verbose=1)</pre></div></div></div><div class=\"sk-parallel\"><div class=\"sk-parallel-item\"><div class=\"sk-item\"><div class=\"sk-label-container\"><div class=\"sk-label sk-toggleable\"><input class=\"sk-toggleable__control sk-hidden--visually\" id=\"sk-estimator-id-7\" type=\"checkbox\" ><label for=\"sk-estimator-id-7\" class=\"sk-toggleable__label sk-toggleable__label-arrow\">estimator: SVC</label><div class=\"sk-toggleable__content\"><pre>SVC(C=1, kernel=&#x27;linear&#x27;, random_state=42)</pre></div></div></div><div class=\"sk-serial\"><div class=\"sk-item\"><div class=\"sk-estimator sk-toggleable\"><input class=\"sk-toggleable__control sk-hidden--visually\" id=\"sk-estimator-id-8\" type=\"checkbox\" ><label for=\"sk-estimator-id-8\" class=\"sk-toggleable__label sk-toggleable__label-arrow\">SVC</label><div class=\"sk-toggleable__content\"><pre>SVC(C=1, kernel=&#x27;linear&#x27;, random_state=42)</pre></div></div></div></div></div></div></div></div></div></div>"
            ],
            "text/plain": [
              "GridSearchCV(cv=5, estimator=SVC(C=1, kernel='linear', random_state=42),\n",
              "             n_jobs=-1,\n",
              "             param_grid={'C': [0.1, 1, 10, 100], 'gamma': ['scale', 'auto'],\n",
              "                         'kernel': ['linear', 'rbf', 'poly']},\n",
              "             scoring='accuracy', verbose=1)"
            ]
          },
          "execution_count": 44,
          "metadata": {},
          "output_type": "execute_result"
        }
      ],
      "source": [
        "# GridSearchCV untuk hyperparameter tuning\n",
        "grid_search = GridSearchCV(estimator=svm_model, param_grid=param_grid, cv=5, scoring='accuracy', verbose=1, n_jobs=-1)\n",
        "grid_search.fit(X_train_doc2vec, y_train)"
      ]
    },
    {
      "cell_type": "code",
      "execution_count": 45,
      "metadata": {},
      "outputs": [
        {
          "name": "stdout",
          "output_type": "stream",
          "text": [
            "Best Hyperparameters: {'C': 100, 'gamma': 'scale', 'kernel': 'linear'}\n",
            "Best Cross-Validation Score: 0.8016\n"
          ]
        }
      ],
      "source": [
        "# Menampilkan hasil terbaik\n",
        "print(\"Best Hyperparameters:\", grid_search.best_params_)\n",
        "print(\"Best Cross-Validation Score:\", grid_search.best_score_)"
      ]
    },
    {
      "cell_type": "code",
      "execution_count": 46,
      "metadata": {},
      "outputs": [
        {
          "name": "stdout",
          "output_type": "stream",
          "text": [
            "Accuracy (Doc2Vec + SVM): 0.8471337579617835\n",
            "Classification Report (Doc2Vec + SVM):\n",
            "               precision    recall  f1-score   support\n",
            "\n",
            "      Kontra       0.82      0.90      0.86        79\n",
            "         Pro       0.89      0.79      0.84        78\n",
            "\n",
            "    accuracy                           0.85       157\n",
            "   macro avg       0.85      0.85      0.85       157\n",
            "weighted avg       0.85      0.85      0.85       157\n",
            "\n"
          ]
        }
      ],
      "source": [
        "# Menggunakan model terbaik untuk prediksi pada data testing\n",
        "best_svm_model = grid_search.best_estimator_\n",
        "y_pred_svm = best_svm_model.predict(X_test_doc2vec)\n",
        "\n",
        "# Evaluasi model\n",
        "accuracy = accuracy_score(y_test, y_pred_svm)\n",
        "print(\"Accuracy (Doc2Vec + SVM):\", accuracy)\n",
        "print(\"Classification Report (Doc2Vec + SVM):\\n\", classification_report(y_test, y_pred_svm))\n"
      ]
    },
    {
      "cell_type": "markdown",
      "metadata": {},
      "source": [
        "##### 1.3.1 Random Forest"
      ]
    },
    {
      "cell_type": "code",
      "execution_count": 47,
      "metadata": {},
      "outputs": [],
      "source": [
        "from sklearn.ensemble import RandomForestClassifier\n",
        "from sklearn.metrics import classification_report, accuracy_score"
      ]
    },
    {
      "cell_type": "code",
      "execution_count": 48,
      "metadata": {},
      "outputs": [],
      "source": [
        "rf_model = RandomForestClassifier(n_estimators=100, random_state=42)\n"
      ]
    },
    {
      "cell_type": "code",
      "execution_count": 49,
      "metadata": {},
      "outputs": [],
      "source": [
        "rf_model.fit(X_train_doc2vec, y_train)\n",
        "y_pred_rf = rf_model.predict(X_test_doc2vec)\n"
      ]
    },
    {
      "cell_type": "code",
      "execution_count": 50,
      "metadata": {},
      "outputs": [
        {
          "name": "stdout",
          "output_type": "stream",
          "text": [
            "Accuracy (Doc2Vec + Random Forest): 0.8343949044585988\n",
            "Classification Report (Doc2Vec + Random Forest):\n",
            "               precision    recall  f1-score   support\n",
            "\n",
            "      Kontra       0.81      0.87      0.84        79\n",
            "         Pro       0.86      0.79      0.83        78\n",
            "\n",
            "    accuracy                           0.83       157\n",
            "   macro avg       0.84      0.83      0.83       157\n",
            "weighted avg       0.84      0.83      0.83       157\n",
            "\n"
          ]
        }
      ],
      "source": [
        "accuracy = accuracy_score(y_test, y_pred_rf)\n",
        "print(\"Accuracy (Doc2Vec + Random Forest):\", accuracy)\n",
        "print(\"Classification Report (Doc2Vec + Random Forest):\\n\", classification_report(y_test, y_pred_rf))\n"
      ]
    },
    {
      "cell_type": "markdown",
      "metadata": {},
      "source": [
        "##### 1.3.2 Hyperparameter Tuning Ramdom Forest"
      ]
    },
    {
      "cell_type": "code",
      "execution_count": 51,
      "metadata": {},
      "outputs": [],
      "source": [
        "param_grid = {\n",
        "    'n_estimators': [50, 100, 200],  # Jumlah pohon keputusan\n",
        "    'max_depth': [None, 10, 20, 30],  # Kedalaman maksimum setiap pohon\n",
        "    'min_samples_split': [2, 5, 10],  # Jumlah minimum sampel untuk split\n",
        "    'min_samples_leaf': [1, 2, 4],    # Jumlah minimum sampel per daun\n",
        "    'bootstrap': [True, False]        # Apakah bootstrap digunakan\n",
        "}"
      ]
    },
    {
      "cell_type": "code",
      "execution_count": 52,
      "metadata": {},
      "outputs": [],
      "source": [
        "# Inisialisasi model Random Forest\n",
        "rf_model = RandomForestClassifier(random_state=42)"
      ]
    },
    {
      "cell_type": "code",
      "execution_count": 53,
      "metadata": {},
      "outputs": [
        {
          "name": "stdout",
          "output_type": "stream",
          "text": [
            "Fitting 5 folds for each of 216 candidates, totalling 1080 fits\n"
          ]
        },
        {
          "data": {
            "text/html": [
              "<style>#sk-container-id-5 {color: black;background-color: white;}#sk-container-id-5 pre{padding: 0;}#sk-container-id-5 div.sk-toggleable {background-color: white;}#sk-container-id-5 label.sk-toggleable__label {cursor: pointer;display: block;width: 100%;margin-bottom: 0;padding: 0.3em;box-sizing: border-box;text-align: center;}#sk-container-id-5 label.sk-toggleable__label-arrow:before {content: \"▸\";float: left;margin-right: 0.25em;color: #696969;}#sk-container-id-5 label.sk-toggleable__label-arrow:hover:before {color: black;}#sk-container-id-5 div.sk-estimator:hover label.sk-toggleable__label-arrow:before {color: black;}#sk-container-id-5 div.sk-toggleable__content {max-height: 0;max-width: 0;overflow: hidden;text-align: left;background-color: #f0f8ff;}#sk-container-id-5 div.sk-toggleable__content pre {margin: 0.2em;color: black;border-radius: 0.25em;background-color: #f0f8ff;}#sk-container-id-5 input.sk-toggleable__control:checked~div.sk-toggleable__content {max-height: 200px;max-width: 100%;overflow: auto;}#sk-container-id-5 input.sk-toggleable__control:checked~label.sk-toggleable__label-arrow:before {content: \"▾\";}#sk-container-id-5 div.sk-estimator input.sk-toggleable__control:checked~label.sk-toggleable__label {background-color: #d4ebff;}#sk-container-id-5 div.sk-label input.sk-toggleable__control:checked~label.sk-toggleable__label {background-color: #d4ebff;}#sk-container-id-5 input.sk-hidden--visually {border: 0;clip: rect(1px 1px 1px 1px);clip: rect(1px, 1px, 1px, 1px);height: 1px;margin: -1px;overflow: hidden;padding: 0;position: absolute;width: 1px;}#sk-container-id-5 div.sk-estimator {font-family: monospace;background-color: #f0f8ff;border: 1px dotted black;border-radius: 0.25em;box-sizing: border-box;margin-bottom: 0.5em;}#sk-container-id-5 div.sk-estimator:hover {background-color: #d4ebff;}#sk-container-id-5 div.sk-parallel-item::after {content: \"\";width: 100%;border-bottom: 1px solid gray;flex-grow: 1;}#sk-container-id-5 div.sk-label:hover label.sk-toggleable__label {background-color: #d4ebff;}#sk-container-id-5 div.sk-serial::before {content: \"\";position: absolute;border-left: 1px solid gray;box-sizing: border-box;top: 0;bottom: 0;left: 50%;z-index: 0;}#sk-container-id-5 div.sk-serial {display: flex;flex-direction: column;align-items: center;background-color: white;padding-right: 0.2em;padding-left: 0.2em;position: relative;}#sk-container-id-5 div.sk-item {position: relative;z-index: 1;}#sk-container-id-5 div.sk-parallel {display: flex;align-items: stretch;justify-content: center;background-color: white;position: relative;}#sk-container-id-5 div.sk-item::before, #sk-container-id-5 div.sk-parallel-item::before {content: \"\";position: absolute;border-left: 1px solid gray;box-sizing: border-box;top: 0;bottom: 0;left: 50%;z-index: -1;}#sk-container-id-5 div.sk-parallel-item {display: flex;flex-direction: column;z-index: 1;position: relative;background-color: white;}#sk-container-id-5 div.sk-parallel-item:first-child::after {align-self: flex-end;width: 50%;}#sk-container-id-5 div.sk-parallel-item:last-child::after {align-self: flex-start;width: 50%;}#sk-container-id-5 div.sk-parallel-item:only-child::after {width: 0;}#sk-container-id-5 div.sk-dashed-wrapped {border: 1px dashed gray;margin: 0 0.4em 0.5em 0.4em;box-sizing: border-box;padding-bottom: 0.4em;background-color: white;}#sk-container-id-5 div.sk-label label {font-family: monospace;font-weight: bold;display: inline-block;line-height: 1.2em;}#sk-container-id-5 div.sk-label-container {text-align: center;}#sk-container-id-5 div.sk-container {/* jupyter's `normalize.less` sets `[hidden] { display: none; }` but bootstrap.min.css set `[hidden] { display: none !important; }` so we also need the `!important` here to be able to override the default hidden behavior on the sphinx rendered scikit-learn.org. See: https://github.com/scikit-learn/scikit-learn/issues/21755 */display: inline-block !important;position: relative;}#sk-container-id-5 div.sk-text-repr-fallback {display: none;}</style><div id=\"sk-container-id-5\" class=\"sk-top-container\"><div class=\"sk-text-repr-fallback\"><pre>GridSearchCV(cv=5, estimator=RandomForestClassifier(random_state=42), n_jobs=-1,\n",
              "             param_grid={&#x27;bootstrap&#x27;: [True, False],\n",
              "                         &#x27;max_depth&#x27;: [None, 10, 20, 30],\n",
              "                         &#x27;min_samples_leaf&#x27;: [1, 2, 4],\n",
              "                         &#x27;min_samples_split&#x27;: [2, 5, 10],\n",
              "                         &#x27;n_estimators&#x27;: [50, 100, 200]},\n",
              "             scoring=&#x27;accuracy&#x27;, verbose=1)</pre><b>In a Jupyter environment, please rerun this cell to show the HTML representation or trust the notebook. <br />On GitHub, the HTML representation is unable to render, please try loading this page with nbviewer.org.</b></div><div class=\"sk-container\" hidden><div class=\"sk-item sk-dashed-wrapped\"><div class=\"sk-label-container\"><div class=\"sk-label sk-toggleable\"><input class=\"sk-toggleable__control sk-hidden--visually\" id=\"sk-estimator-id-9\" type=\"checkbox\" ><label for=\"sk-estimator-id-9\" class=\"sk-toggleable__label sk-toggleable__label-arrow\">GridSearchCV</label><div class=\"sk-toggleable__content\"><pre>GridSearchCV(cv=5, estimator=RandomForestClassifier(random_state=42), n_jobs=-1,\n",
              "             param_grid={&#x27;bootstrap&#x27;: [True, False],\n",
              "                         &#x27;max_depth&#x27;: [None, 10, 20, 30],\n",
              "                         &#x27;min_samples_leaf&#x27;: [1, 2, 4],\n",
              "                         &#x27;min_samples_split&#x27;: [2, 5, 10],\n",
              "                         &#x27;n_estimators&#x27;: [50, 100, 200]},\n",
              "             scoring=&#x27;accuracy&#x27;, verbose=1)</pre></div></div></div><div class=\"sk-parallel\"><div class=\"sk-parallel-item\"><div class=\"sk-item\"><div class=\"sk-label-container\"><div class=\"sk-label sk-toggleable\"><input class=\"sk-toggleable__control sk-hidden--visually\" id=\"sk-estimator-id-10\" type=\"checkbox\" ><label for=\"sk-estimator-id-10\" class=\"sk-toggleable__label sk-toggleable__label-arrow\">estimator: RandomForestClassifier</label><div class=\"sk-toggleable__content\"><pre>RandomForestClassifier(random_state=42)</pre></div></div></div><div class=\"sk-serial\"><div class=\"sk-item\"><div class=\"sk-estimator sk-toggleable\"><input class=\"sk-toggleable__control sk-hidden--visually\" id=\"sk-estimator-id-11\" type=\"checkbox\" ><label for=\"sk-estimator-id-11\" class=\"sk-toggleable__label sk-toggleable__label-arrow\">RandomForestClassifier</label><div class=\"sk-toggleable__content\"><pre>RandomForestClassifier(random_state=42)</pre></div></div></div></div></div></div></div></div></div></div>"
            ],
            "text/plain": [
              "GridSearchCV(cv=5, estimator=RandomForestClassifier(random_state=42), n_jobs=-1,\n",
              "             param_grid={'bootstrap': [True, False],\n",
              "                         'max_depth': [None, 10, 20, 30],\n",
              "                         'min_samples_leaf': [1, 2, 4],\n",
              "                         'min_samples_split': [2, 5, 10],\n",
              "                         'n_estimators': [50, 100, 200]},\n",
              "             scoring='accuracy', verbose=1)"
            ]
          },
          "execution_count": 53,
          "metadata": {},
          "output_type": "execute_result"
        }
      ],
      "source": [
        "grid_search = GridSearchCV(estimator=rf_model, param_grid=param_grid, cv=5, scoring='accuracy', verbose=1, n_jobs=-1)\n",
        "grid_search.fit(X_train_doc2vec, y_train)\n"
      ]
    },
    {
      "cell_type": "code",
      "execution_count": 54,
      "metadata": {},
      "outputs": [
        {
          "name": "stdout",
          "output_type": "stream",
          "text": [
            "Best Hyperparameters: {'bootstrap': False, 'max_depth': 10, 'min_samples_leaf': 2, 'min_samples_split': 10, 'n_estimators': 50}\n",
            "Best Cross-Validation Score: 0.7984\n"
          ]
        }
      ],
      "source": [
        "# Menampilkan hasil terbaik\n",
        "print(\"Best Hyperparameters:\", grid_search.best_params_)\n",
        "print(\"Best Cross-Validation Score:\", grid_search.best_score_)"
      ]
    },
    {
      "cell_type": "code",
      "execution_count": 55,
      "metadata": {},
      "outputs": [
        {
          "name": "stdout",
          "output_type": "stream",
          "text": [
            "Accuracy (Doc2Vec + Random Forest): 0.8471337579617835\n",
            "Classification Report (Doc2Vec + Random Forest):\n",
            "               precision    recall  f1-score   support\n",
            "\n",
            "      Kontra       0.82      0.89      0.85        79\n",
            "         Pro       0.88      0.81      0.84        78\n",
            "\n",
            "    accuracy                           0.85       157\n",
            "   macro avg       0.85      0.85      0.85       157\n",
            "weighted avg       0.85      0.85      0.85       157\n",
            "\n"
          ]
        }
      ],
      "source": [
        "# Menggunakan model terbaik untuk prediksi pada data testing\n",
        "best_rf_model = grid_search.best_estimator_\n",
        "y_pred_rf = best_rf_model.predict(X_test_doc2vec)\n",
        "\n",
        "# Evaluasi model\n",
        "accuracy = accuracy_score(y_test, y_pred_rf)\n",
        "print(\"Accuracy (Doc2Vec + Random Forest):\", accuracy)\n",
        "print(\"Classification Report (Doc2Vec + Random Forest):\\n\", classification_report(y_test, y_pred_rf))\n"
      ]
    },
    {
      "cell_type": "markdown",
      "metadata": {},
      "source": [
        "##### 1.4.1 XGBoost\n",
        "XGBoost membutuhkan target y dalam format numerik (contoh: 0 untuk Kontra dan 1 untuk Pro), tetapi target y Anda saat ini masih berupa string (Kontra dan Pro). sehingga kita akan mengulang copy data balance data dan melakukan doc2vec ulang "
      ]
    },
    {
      "cell_type": "code",
      "execution_count": 1,
      "metadata": {},
      "outputs": [],
      "source": [
        "from xgboost import XGBClassifier"
      ]
    },
    {
      "cell_type": "code",
      "execution_count": 57,
      "metadata": {},
      "outputs": [],
      "source": [
        "xgb_model = XGBClassifier(use_label_encoder=False, eval_metric='logloss', random_state=42)"
      ]
    },
    {
      "cell_type": "code",
      "execution_count": 58,
      "metadata": {},
      "outputs": [],
      "source": [
        "xgboost_data = data.copy()\n",
        "xgboost_data['Label'] = xgboost_data['Label'].map({'Kontra': 0, 'Pro': 1})"
      ]
    },
    {
      "cell_type": "code",
      "execution_count": 59,
      "metadata": {},
      "outputs": [],
      "source": [
        "# Split data menjadi training dan testing untuk XGBoost\n",
        "X = xgboost_data['Cleaned_Comment']\n",
        "y = xgboost_data['Label']\n",
        "X_train, X_test, y_train, y_test = train_test_split(X, y, test_size=0.2, random_state=42, stratify=y)"
      ]
    },
    {
      "cell_type": "code",
      "execution_count": 60,
      "metadata": {},
      "outputs": [],
      "source": [
        "# Tokenisasi data untuk Doc2Vec\n",
        "documents = [TaggedDocument(words=text.split(), tags=[i]) for i, text in enumerate(X_train)]\n",
        "# Melatih model Doc2Vec\n",
        "doc2vec_model = Doc2Vec(documents, vector_size=100, window=5, min_count=2, workers=4, epochs=40)\n"
      ]
    },
    {
      "cell_type": "code",
      "execution_count": 61,
      "metadata": {},
      "outputs": [],
      "source": [
        "# Representasi Doc2Vec untuk training dan testing\n",
        "X_train_doc2vec = [doc2vec_model.infer_vector(text.split()) for text in X_train]\n",
        "X_test_doc2vec = [doc2vec_model.infer_vector(text.split()) for text in X_test]\n"
      ]
    },
    {
      "cell_type": "code",
      "execution_count": 3,
      "metadata": {},
      "outputs": [],
      "source": [
        "# Inisialisasi model XGBoost\n",
        "xgb_model = XGBClassifier(use_label_encoder=False, eval_metric='logloss', random_state=42,)\n"
      ]
    },
    {
      "cell_type": "code",
      "execution_count": 63,
      "metadata": {},
      "outputs": [
        {
          "name": "stdout",
          "output_type": "stream",
          "text": [
            "Accuracy (Doc2Vec + XGBoost): 0.8089171974522293\n",
            "Classification Report (Doc2Vec + XGBoost):\n",
            "               precision    recall  f1-score   support\n",
            "\n",
            "           0       0.80      0.84      0.81        79\n",
            "           1       0.82      0.78      0.80        78\n",
            "\n",
            "    accuracy                           0.81       157\n",
            "   macro avg       0.81      0.81      0.81       157\n",
            "weighted avg       0.81      0.81      0.81       157\n",
            "\n"
          ]
        }
      ],
      "source": [
        "# Melatih model XGBoost dengan data training\n",
        "xgb_model.fit(X_train_doc2vec, y_train)\n",
        "# Prediksi pada data testing\n",
        "y_pred_xgb = xgb_model.predict(X_test_doc2vec)\n",
        "# Evaluasi model\n",
        "accuracy = accuracy_score(y_test, y_pred_xgb)\n",
        "print(\"Accuracy (Doc2Vec + XGBoost):\", accuracy)\n",
        "print(\"Classification Report (Doc2Vec + XGBoost):\\n\", classification_report(y_test, y_pred_xgb))"
      ]
    },
    {
      "cell_type": "markdown",
      "metadata": {},
      "source": [
        "##### 1.4.2 Hyperparameter Tuning XGBoost "
      ]
    },
    {
      "cell_type": "code",
      "execution_count": 64,
      "metadata": {},
      "outputs": [],
      "source": [
        "param_grid = {\n",
        "    'n_estimators': [50, 100, 200],\n",
        "    'max_depth': [3, 6, 10],\n",
        "    'learning_rate': [0.01, 0.1, 0.2],\n",
        "    'subsample': [0.6, 0.8, 1.0],\n",
        "    'colsample_bytree': [0.6, 0.8, 1.0]\n",
        "}"
      ]
    },
    {
      "cell_type": "code",
      "execution_count": 65,
      "metadata": {},
      "outputs": [],
      "source": [
        "xgb_model = XGBClassifier(use_label_encoder=False, eval_metric='logloss', random_state=42)\n"
      ]
    },
    {
      "cell_type": "code",
      "execution_count": 66,
      "metadata": {},
      "outputs": [],
      "source": [
        "grid_search = GridSearchCV(estimator=xgb_model, param_grid=param_grid, cv=5, scoring='accuracy', verbose=1, n_jobs=-1)\n"
      ]
    },
    {
      "cell_type": "code",
      "execution_count": null,
      "metadata": {},
      "outputs": [
        {
          "name": "stdout",
          "output_type": "stream",
          "text": [
            "Fitting 5 folds for each of 243 candidates, totalling 1215 fits\n"
          ]
        },
        {
          "data": {
            "text/html": [
              "<style>#sk-container-id-6 {color: black;background-color: white;}#sk-container-id-6 pre{padding: 0;}#sk-container-id-6 div.sk-toggleable {background-color: white;}#sk-container-id-6 label.sk-toggleable__label {cursor: pointer;display: block;width: 100%;margin-bottom: 0;padding: 0.3em;box-sizing: border-box;text-align: center;}#sk-container-id-6 label.sk-toggleable__label-arrow:before {content: \"▸\";float: left;margin-right: 0.25em;color: #696969;}#sk-container-id-6 label.sk-toggleable__label-arrow:hover:before {color: black;}#sk-container-id-6 div.sk-estimator:hover label.sk-toggleable__label-arrow:before {color: black;}#sk-container-id-6 div.sk-toggleable__content {max-height: 0;max-width: 0;overflow: hidden;text-align: left;background-color: #f0f8ff;}#sk-container-id-6 div.sk-toggleable__content pre {margin: 0.2em;color: black;border-radius: 0.25em;background-color: #f0f8ff;}#sk-container-id-6 input.sk-toggleable__control:checked~div.sk-toggleable__content {max-height: 200px;max-width: 100%;overflow: auto;}#sk-container-id-6 input.sk-toggleable__control:checked~label.sk-toggleable__label-arrow:before {content: \"▾\";}#sk-container-id-6 div.sk-estimator input.sk-toggleable__control:checked~label.sk-toggleable__label {background-color: #d4ebff;}#sk-container-id-6 div.sk-label input.sk-toggleable__control:checked~label.sk-toggleable__label {background-color: #d4ebff;}#sk-container-id-6 input.sk-hidden--visually {border: 0;clip: rect(1px 1px 1px 1px);clip: rect(1px, 1px, 1px, 1px);height: 1px;margin: -1px;overflow: hidden;padding: 0;position: absolute;width: 1px;}#sk-container-id-6 div.sk-estimator {font-family: monospace;background-color: #f0f8ff;border: 1px dotted black;border-radius: 0.25em;box-sizing: border-box;margin-bottom: 0.5em;}#sk-container-id-6 div.sk-estimator:hover {background-color: #d4ebff;}#sk-container-id-6 div.sk-parallel-item::after {content: \"\";width: 100%;border-bottom: 1px solid gray;flex-grow: 1;}#sk-container-id-6 div.sk-label:hover label.sk-toggleable__label {background-color: #d4ebff;}#sk-container-id-6 div.sk-serial::before {content: \"\";position: absolute;border-left: 1px solid gray;box-sizing: border-box;top: 0;bottom: 0;left: 50%;z-index: 0;}#sk-container-id-6 div.sk-serial {display: flex;flex-direction: column;align-items: center;background-color: white;padding-right: 0.2em;padding-left: 0.2em;position: relative;}#sk-container-id-6 div.sk-item {position: relative;z-index: 1;}#sk-container-id-6 div.sk-parallel {display: flex;align-items: stretch;justify-content: center;background-color: white;position: relative;}#sk-container-id-6 div.sk-item::before, #sk-container-id-6 div.sk-parallel-item::before {content: \"\";position: absolute;border-left: 1px solid gray;box-sizing: border-box;top: 0;bottom: 0;left: 50%;z-index: -1;}#sk-container-id-6 div.sk-parallel-item {display: flex;flex-direction: column;z-index: 1;position: relative;background-color: white;}#sk-container-id-6 div.sk-parallel-item:first-child::after {align-self: flex-end;width: 50%;}#sk-container-id-6 div.sk-parallel-item:last-child::after {align-self: flex-start;width: 50%;}#sk-container-id-6 div.sk-parallel-item:only-child::after {width: 0;}#sk-container-id-6 div.sk-dashed-wrapped {border: 1px dashed gray;margin: 0 0.4em 0.5em 0.4em;box-sizing: border-box;padding-bottom: 0.4em;background-color: white;}#sk-container-id-6 div.sk-label label {font-family: monospace;font-weight: bold;display: inline-block;line-height: 1.2em;}#sk-container-id-6 div.sk-label-container {text-align: center;}#sk-container-id-6 div.sk-container {/* jupyter's `normalize.less` sets `[hidden] { display: none; }` but bootstrap.min.css set `[hidden] { display: none !important; }` so we also need the `!important` here to be able to override the default hidden behavior on the sphinx rendered scikit-learn.org. See: https://github.com/scikit-learn/scikit-learn/issues/21755 */display: inline-block !important;position: relative;}#sk-container-id-6 div.sk-text-repr-fallback {display: none;}</style><div id=\"sk-container-id-6\" class=\"sk-top-container\"><div class=\"sk-text-repr-fallback\"><pre>GridSearchCV(cv=5,\n",
              "             estimator=XGBClassifier(base_score=None, booster=None,\n",
              "                                     callbacks=None, colsample_bylevel=None,\n",
              "                                     colsample_bynode=None,\n",
              "                                     colsample_bytree=None,\n",
              "                                     early_stopping_rounds=None,\n",
              "                                     enable_categorical=False,\n",
              "                                     eval_metric=&#x27;logloss&#x27;, gamma=None,\n",
              "                                     gpu_id=None, grow_policy=None,\n",
              "                                     importance_type=None,\n",
              "                                     interaction_constraints=None,\n",
              "                                     learning_rate=None, max_bin=None,\n",
              "                                     m...\n",
              "                                     max_leaves=None, min_child_weight=None,\n",
              "                                     missing=nan, monotone_constraints=None,\n",
              "                                     n_estimators=100, n_jobs=None,\n",
              "                                     num_parallel_tree=None, predictor=None,\n",
              "                                     random_state=42, reg_alpha=None,\n",
              "                                     reg_lambda=None, ...),\n",
              "             n_jobs=-1,\n",
              "             param_grid={&#x27;colsample_bytree&#x27;: [0.6, 0.8, 1.0],\n",
              "                         &#x27;learning_rate&#x27;: [0.01, 0.1, 0.2],\n",
              "                         &#x27;max_depth&#x27;: [3, 6, 10],\n",
              "                         &#x27;n_estimators&#x27;: [50, 100, 200],\n",
              "                         &#x27;subsample&#x27;: [0.6, 0.8, 1.0]},\n",
              "             scoring=&#x27;accuracy&#x27;, verbose=1)</pre><b>In a Jupyter environment, please rerun this cell to show the HTML representation or trust the notebook. <br />On GitHub, the HTML representation is unable to render, please try loading this page with nbviewer.org.</b></div><div class=\"sk-container\" hidden><div class=\"sk-item sk-dashed-wrapped\"><div class=\"sk-label-container\"><div class=\"sk-label sk-toggleable\"><input class=\"sk-toggleable__control sk-hidden--visually\" id=\"sk-estimator-id-12\" type=\"checkbox\" ><label for=\"sk-estimator-id-12\" class=\"sk-toggleable__label sk-toggleable__label-arrow\">GridSearchCV</label><div class=\"sk-toggleable__content\"><pre>GridSearchCV(cv=5,\n",
              "             estimator=XGBClassifier(base_score=None, booster=None,\n",
              "                                     callbacks=None, colsample_bylevel=None,\n",
              "                                     colsample_bynode=None,\n",
              "                                     colsample_bytree=None,\n",
              "                                     early_stopping_rounds=None,\n",
              "                                     enable_categorical=False,\n",
              "                                     eval_metric=&#x27;logloss&#x27;, gamma=None,\n",
              "                                     gpu_id=None, grow_policy=None,\n",
              "                                     importance_type=None,\n",
              "                                     interaction_constraints=None,\n",
              "                                     learning_rate=None, max_bin=None,\n",
              "                                     m...\n",
              "                                     max_leaves=None, min_child_weight=None,\n",
              "                                     missing=nan, monotone_constraints=None,\n",
              "                                     n_estimators=100, n_jobs=None,\n",
              "                                     num_parallel_tree=None, predictor=None,\n",
              "                                     random_state=42, reg_alpha=None,\n",
              "                                     reg_lambda=None, ...),\n",
              "             n_jobs=-1,\n",
              "             param_grid={&#x27;colsample_bytree&#x27;: [0.6, 0.8, 1.0],\n",
              "                         &#x27;learning_rate&#x27;: [0.01, 0.1, 0.2],\n",
              "                         &#x27;max_depth&#x27;: [3, 6, 10],\n",
              "                         &#x27;n_estimators&#x27;: [50, 100, 200],\n",
              "                         &#x27;subsample&#x27;: [0.6, 0.8, 1.0]},\n",
              "             scoring=&#x27;accuracy&#x27;, verbose=1)</pre></div></div></div><div class=\"sk-parallel\"><div class=\"sk-parallel-item\"><div class=\"sk-item\"><div class=\"sk-label-container\"><div class=\"sk-label sk-toggleable\"><input class=\"sk-toggleable__control sk-hidden--visually\" id=\"sk-estimator-id-13\" type=\"checkbox\" ><label for=\"sk-estimator-id-13\" class=\"sk-toggleable__label sk-toggleable__label-arrow\">estimator: XGBClassifier</label><div class=\"sk-toggleable__content\"><pre>XGBClassifier(base_score=None, booster=None, callbacks=None,\n",
              "              colsample_bylevel=None, colsample_bynode=None,\n",
              "              colsample_bytree=None, early_stopping_rounds=None,\n",
              "              enable_categorical=False, eval_metric=&#x27;logloss&#x27;, gamma=None,\n",
              "              gpu_id=None, grow_policy=None, importance_type=None,\n",
              "              interaction_constraints=None, learning_rate=None, max_bin=None,\n",
              "              max_cat_to_onehot=None, max_delta_step=None, max_depth=None,\n",
              "              max_leaves=None, min_child_weight=None, missing=nan,\n",
              "              monotone_constraints=None, n_estimators=100, n_jobs=None,\n",
              "              num_parallel_tree=None, predictor=None, random_state=42,\n",
              "              reg_alpha=None, reg_lambda=None, ...)</pre></div></div></div><div class=\"sk-serial\"><div class=\"sk-item\"><div class=\"sk-estimator sk-toggleable\"><input class=\"sk-toggleable__control sk-hidden--visually\" id=\"sk-estimator-id-14\" type=\"checkbox\" ><label for=\"sk-estimator-id-14\" class=\"sk-toggleable__label sk-toggleable__label-arrow\">XGBClassifier</label><div class=\"sk-toggleable__content\"><pre>XGBClassifier(base_score=None, booster=None, callbacks=None,\n",
              "              colsample_bylevel=None, colsample_bynode=None,\n",
              "              colsample_bytree=None, early_stopping_rounds=None,\n",
              "              enable_categorical=False, eval_metric=&#x27;logloss&#x27;, gamma=None,\n",
              "              gpu_id=None, grow_policy=None, importance_type=None,\n",
              "              interaction_constraints=None, learning_rate=None, max_bin=None,\n",
              "              max_cat_to_onehot=None, max_delta_step=None, max_depth=None,\n",
              "              max_leaves=None, min_child_weight=None, missing=nan,\n",
              "              monotone_constraints=None, n_estimators=100, n_jobs=None,\n",
              "              num_parallel_tree=None, predictor=None, random_state=42,\n",
              "              reg_alpha=None, reg_lambda=None, ...)</pre></div></div></div></div></div></div></div></div></div></div>"
            ],
            "text/plain": [
              "GridSearchCV(cv=5,\n",
              "             estimator=XGBClassifier(base_score=None, booster=None,\n",
              "                                     callbacks=None, colsample_bylevel=None,\n",
              "                                     colsample_bynode=None,\n",
              "                                     colsample_bytree=None,\n",
              "                                     early_stopping_rounds=None,\n",
              "                                     enable_categorical=False,\n",
              "                                     eval_metric='logloss', gamma=None,\n",
              "                                     gpu_id=None, grow_policy=None,\n",
              "                                     importance_type=None,\n",
              "                                     interaction_constraints=None,\n",
              "                                     learning_rate=None, max_bin=None,\n",
              "                                     m...\n",
              "                                     max_leaves=None, min_child_weight=None,\n",
              "                                     missing=nan, monotone_constraints=None,\n",
              "                                     n_estimators=100, n_jobs=None,\n",
              "                                     num_parallel_tree=None, predictor=None,\n",
              "                                     random_state=42, reg_alpha=None,\n",
              "                                     reg_lambda=None, ...),\n",
              "             n_jobs=-1,\n",
              "             param_grid={'colsample_bytree': [0.6, 0.8, 1.0],\n",
              "                         'learning_rate': [0.01, 0.1, 0.2],\n",
              "                         'max_depth': [3, 6, 10],\n",
              "                         'n_estimators': [50, 100, 200],\n",
              "                         'subsample': [0.6, 0.8, 1.0]},\n",
              "             scoring='accuracy', verbose=1)"
            ]
          },
          "execution_count": 67,
          "metadata": {},
          "output_type": "execute_result"
        }
      ],
      "source": [
        "grid_search.fit(X_train_doc2vec, y_train)"
      ]
    },
    {
      "cell_type": "code",
      "execution_count": 72,
      "metadata": {},
      "outputs": [
        {
          "name": "stdout",
          "output_type": "stream",
          "text": [
            "Best Hyperparameters: {'colsample_bytree': 0.8, 'learning_rate': 0.2, 'max_depth': 3, 'n_estimators': 200, 'subsample': 1.0}\n",
            "Best Cross-Validation Score: 0.8112\n"
          ]
        }
      ],
      "source": [
        "# Menampilkan hasil terbaik\n",
        "print(\"Best Hyperparameters:\", grid_search.best_params_)\n",
        "print(\"Best Cross-Validation Score:\", grid_search.best_score_)"
      ]
    },
    {
      "cell_type": "code",
      "execution_count": 73,
      "metadata": {},
      "outputs": [
        {
          "name": "stdout",
          "output_type": "stream",
          "text": [
            "Accuracy (Doc2Vec + XGBoost): 0.8407643312101911\n",
            "Classification Report (Doc2Vec + XGBoost):\n",
            "               precision    recall  f1-score   support\n",
            "\n",
            "           0       0.82      0.87      0.85        79\n",
            "           1       0.86      0.81      0.83        78\n",
            "\n",
            "    accuracy                           0.84       157\n",
            "   macro avg       0.84      0.84      0.84       157\n",
            "weighted avg       0.84      0.84      0.84       157\n",
            "\n"
          ]
        }
      ],
      "source": [
        "# Menggunakan model terbaik untuk prediksi pada data testing\n",
        "best_xgb_model = grid_search.best_estimator_\n",
        "y_pred_xgb = best_xgb_model.predict(X_test_doc2vec)\n",
        "\n",
        "# Evaluasi model\n",
        "accuracy = accuracy_score(y_test, y_pred_xgb)\n",
        "print(\"Accuracy (Doc2Vec + XGBoost):\", accuracy)\n",
        "print(\"Classification Report (Doc2Vec + XGBoost):\\n\", classification_report(y_test, y_pred_xgb))\n"
      ]
    },
    {
      "cell_type": "markdown",
      "metadata": {},
      "source": [
        "#### 2. BERT\n",
        "Alasan menggunakan BERT:\n",
        "- Pemahaman Konteks yang Mendalam: BERT memahami konteks kata secara dua arah (bidirectional), yang berarti sangat cocok untuk teks opini seperti komentar.\n",
        "Misalnya, BERT dapat membedakan makna \"kurikulum ini tidak buruk\" dari \"kurikulum ini buruk\".\n",
        "- Sangat Akurat: BERT umumnya memberikan performa yang lebih baik pada tugas klasifikasi teks dibandingkan metode tradisional seperti Doc2Vec.\n",
        "- Transfer Learning: Kita dapat menggunakan model BERT yang sudah dilatih (pre-trained) dan menyesuaikannya (fine-tuning) pada dataset Kita. Ini membantu menghemat waktu dan tenaga untuk pelatihan model.\n"
      ]
    },
    {
      "cell_type": "code",
      "execution_count": 75,
      "metadata": {},
      "outputs": [],
      "source": [
        "from transformers import BertTokenizer, BertForSequenceClassification, AdamW\n",
        "from torch.utils.data import DataLoader, Dataset\n",
        "import torch\n",
        "from sklearn.metrics import classification_report, accuracy_score\n",
        "from sklearn.model_selection import train_test_split"
      ]
    },
    {
      "cell_type": "code",
      "execution_count": 78,
      "metadata": {},
      "outputs": [
        {
          "data": {
            "text/html": [
              "<div>\n",
              "<style scoped>\n",
              "    .dataframe tbody tr th:only-of-type {\n",
              "        vertical-align: middle;\n",
              "    }\n",
              "\n",
              "    .dataframe tbody tr th {\n",
              "        vertical-align: top;\n",
              "    }\n",
              "\n",
              "    .dataframe thead th {\n",
              "        text-align: right;\n",
              "    }\n",
              "</style>\n",
              "<table border=\"1\" class=\"dataframe\">\n",
              "  <thead>\n",
              "    <tr style=\"text-align: right;\">\n",
              "      <th></th>\n",
              "      <th>no</th>\n",
              "      <th>Comment</th>\n",
              "      <th>Label</th>\n",
              "      <th>Cleaned_Comment</th>\n",
              "      <th>Comment_Length</th>\n",
              "      <th>Cleaned_Comment_Length</th>\n",
              "    </tr>\n",
              "  </thead>\n",
              "  <tbody>\n",
              "    <tr>\n",
              "      <th>0</th>\n",
              "      <td>506</td>\n",
              "      <td>Betul.... kebanyakan kerja kelompok dan ngelua...</td>\n",
              "      <td>Kontra</td>\n",
              "      <td>banyak kerja kelompok ngeluarin byk uang murid...</td>\n",
              "      <td>129</td>\n",
              "      <td>70</td>\n",
              "    </tr>\n",
              "    <tr>\n",
              "      <th>1</th>\n",
              "      <td>335</td>\n",
              "      <td>Anak2 SD sekarang banyak yg tidak hapal perkal...</td>\n",
              "      <td>Kontra</td>\n",
              "      <td>anak sd yg hapal kali</td>\n",
              "      <td>61</td>\n",
              "      <td>21</td>\n",
              "    </tr>\n",
              "    <tr>\n",
              "      <th>2</th>\n",
              "      <td>1203</td>\n",
              "      <td>Mendukung merdeka belajar !</td>\n",
              "      <td>Pro</td>\n",
              "      <td>dukung merdeka ajar</td>\n",
              "      <td>27</td>\n",
              "      <td>19</td>\n",
              "    </tr>\n",
              "    <tr>\n",
              "      <th>3</th>\n",
              "      <td>1287</td>\n",
              "      <td>Saya baru saja mengikuti salah satu program PM...</td>\n",
              "      <td>Pro</td>\n",
              "      <td>ikut salah program pmm syukur bangga ikut i lo...</td>\n",
              "      <td>148</td>\n",
              "      <td>81</td>\n",
              "    </tr>\n",
              "    <tr>\n",
              "      <th>4</th>\n",
              "      <td>1169</td>\n",
              "      <td>Menyimak 4 pokok kebijakan mas Menteri. Semoga...</td>\n",
              "      <td>Pro</td>\n",
              "      <td>simak pokok bijak mas menteri moga sosialisasi...</td>\n",
              "      <td>126</td>\n",
              "      <td>82</td>\n",
              "    </tr>\n",
              "    <tr>\n",
              "      <th>...</th>\n",
              "      <td>...</td>\n",
              "      <td>...</td>\n",
              "      <td>...</td>\n",
              "      <td>...</td>\n",
              "      <td>...</td>\n",
              "      <td>...</td>\n",
              "    </tr>\n",
              "    <tr>\n",
              "      <th>777</th>\n",
              "      <td>1056</td>\n",
              "      <td>Kelebihan kurikulum merdeka yaitu kemerdekaan ...</td>\n",
              "      <td>Pro</td>\n",
              "      <td>lebih kurikulum merdeka merdeka guru kurang be...</td>\n",
              "      <td>153</td>\n",
              "      <td>107</td>\n",
              "    </tr>\n",
              "    <tr>\n",
              "      <th>778</th>\n",
              "      <td>1101</td>\n",
              "      <td>Masya Allah... Kebijakan kurikulum merdeka yan...</td>\n",
              "      <td>Pro</td>\n",
              "      <td>masya allah bijak kurikulum merdeka moga wujud...</td>\n",
              "      <td>172</td>\n",
              "      <td>95</td>\n",
              "    </tr>\n",
              "    <tr>\n",
              "      <th>779</th>\n",
              "      <td>1265</td>\n",
              "      <td>Goodluck</td>\n",
              "      <td>Pro</td>\n",
              "      <td>goodluck</td>\n",
              "      <td>8</td>\n",
              "      <td>8</td>\n",
              "    </tr>\n",
              "    <tr>\n",
              "      <th>780</th>\n",
              "      <td>152</td>\n",
              "      <td>dan murid semakin merdeka untuk malas belajar ...</td>\n",
              "      <td>Kontra</td>\n",
              "      <td>murid merdeka malas ajar pergi kantin main game</td>\n",
              "      <td>76</td>\n",
              "      <td>47</td>\n",
              "    </tr>\n",
              "    <tr>\n",
              "      <th>781</th>\n",
              "      <td>1093</td>\n",
              "      <td>Merdeka belajar ? memberikan  keleluasaan  unt...</td>\n",
              "      <td>Pro</td>\n",
              "      <td>merdeka ajar leluasa eksplorasi daya potensi b...</td>\n",
              "      <td>132</td>\n",
              "      <td>84</td>\n",
              "    </tr>\n",
              "  </tbody>\n",
              "</table>\n",
              "<p>782 rows × 6 columns</p>\n",
              "</div>"
            ],
            "text/plain": [
              "       no                                            Comment   Label  \\\n",
              "0     506  Betul.... kebanyakan kerja kelompok dan ngelua...  Kontra   \n",
              "1     335  Anak2 SD sekarang banyak yg tidak hapal perkal...  Kontra   \n",
              "2    1203                        Mendukung merdeka belajar !     Pro   \n",
              "3    1287  Saya baru saja mengikuti salah satu program PM...     Pro   \n",
              "4    1169  Menyimak 4 pokok kebijakan mas Menteri. Semoga...     Pro   \n",
              "..    ...                                                ...     ...   \n",
              "777  1056  Kelebihan kurikulum merdeka yaitu kemerdekaan ...     Pro   \n",
              "778  1101  Masya Allah... Kebijakan kurikulum merdeka yan...     Pro   \n",
              "779  1265                                           Goodluck     Pro   \n",
              "780   152  dan murid semakin merdeka untuk malas belajar ...  Kontra   \n",
              "781  1093  Merdeka belajar ? memberikan  keleluasaan  unt...     Pro   \n",
              "\n",
              "                                       Cleaned_Comment  Comment_Length  \\\n",
              "0    banyak kerja kelompok ngeluarin byk uang murid...             129   \n",
              "1                                anak sd yg hapal kali              61   \n",
              "2                                  dukung merdeka ajar              27   \n",
              "3    ikut salah program pmm syukur bangga ikut i lo...             148   \n",
              "4    simak pokok bijak mas menteri moga sosialisasi...             126   \n",
              "..                                                 ...             ...   \n",
              "777  lebih kurikulum merdeka merdeka guru kurang be...             153   \n",
              "778  masya allah bijak kurikulum merdeka moga wujud...             172   \n",
              "779                                           goodluck               8   \n",
              "780    murid merdeka malas ajar pergi kantin main game              76   \n",
              "781  merdeka ajar leluasa eksplorasi daya potensi b...             132   \n",
              "\n",
              "     Cleaned_Comment_Length  \n",
              "0                        70  \n",
              "1                        21  \n",
              "2                        19  \n",
              "3                        81  \n",
              "4                        82  \n",
              "..                      ...  \n",
              "777                     107  \n",
              "778                      95  \n",
              "779                       8  \n",
              "780                      47  \n",
              "781                      84  \n",
              "\n",
              "[782 rows x 6 columns]"
            ]
          },
          "execution_count": 78,
          "metadata": {},
          "output_type": "execute_result"
        }
      ],
      "source": [
        "data"
      ]
    },
    {
      "cell_type": "code",
      "execution_count": 76,
      "metadata": {},
      "outputs": [],
      "source": [
        "class TextDataset(Dataset):\n",
        "    def __init__(self, texts, labels, tokenizer, max_length):\n",
        "        self.texts = texts\n",
        "        self.labels = labels\n",
        "        self.tokenizer = tokenizer\n",
        "        self.max_length = max_length\n",
        "\n",
        "    def __len__(self):\n",
        "        return len(self.texts)\n",
        "\n",
        "    def __getitem__(self, idx):\n",
        "        text = self.texts[idx]\n",
        "        label = self.labels[idx]\n",
        "        encoding = self.tokenizer(\n",
        "            text,\n",
        "            truncation=True,\n",
        "            padding='max_length',\n",
        "            max_length=self.max_length,\n",
        "            return_tensors=\"pt\"\n",
        "        )\n",
        "        return {\n",
        "            'input_ids': encoding['input_ids'].squeeze(0),\n",
        "            'attention_mask': encoding['attention_mask'].squeeze(0),\n",
        "            'label': torch.tensor(label, dtype=torch.long)\n",
        "        }"
      ]
    },
    {
      "cell_type": "code",
      "execution_count": 70,
      "metadata": {},
      "outputs": [],
      "source": [
        "data['Label'] = data['Label'].map({'Kontra': 0, 'Pro': 1})"
      ]
    },
    {
      "cell_type": "code",
      "execution_count": 71,
      "metadata": {},
      "outputs": [],
      "source": [
        "# Split data\n",
        "X_train, X_test, y_train, y_test = train_test_split(\n",
        "    data['Cleaned_Comment'], data['label'], test_size=0.2, random_state=42, stratify=data['label']\n",
        ")\n"
      ]
    },
    {
      "cell_type": "code",
      "execution_count": 79,
      "metadata": {},
      "outputs": [],
      "source": [
        "tokenizer = BertTokenizer.from_pretrained('indobenchmark/indobert-base-p2')\n"
      ]
    },
    {
      "cell_type": "code",
      "execution_count": 80,
      "metadata": {},
      "outputs": [],
      "source": [
        "# Dataset dan DataLoader\n",
        "train_dataset = TextDataset(X_train.tolist(), y_train.tolist(), tokenizer, max_length=128)\n",
        "test_dataset = TextDataset(X_test.tolist(), y_test.tolist(), tokenizer, max_length=128)\n",
        "\n",
        "train_loader = DataLoader(train_dataset, batch_size=16, shuffle=True)\n",
        "test_loader = DataLoader(test_dataset, batch_size=16)"
      ]
    },
    {
      "cell_type": "markdown",
      "metadata": {},
      "source": [
        "##### 2.1 Modeling IndoBERT"
      ]
    },
    {
      "cell_type": "code",
      "execution_count": 81,
      "metadata": {},
      "outputs": [],
      "source": [
        "device = torch.device('cuda' if torch.cuda.is_available() else 'cpu')\n"
      ]
    },
    {
      "cell_type": "code",
      "execution_count": 82,
      "metadata": {},
      "outputs": [
        {
          "name": "stderr",
          "output_type": "stream",
          "text": [
            "Some weights of BertForSequenceClassification were not initialized from the model checkpoint at indobenchmark/indobert-base-p2 and are newly initialized: ['classifier.bias', 'classifier.weight']\n",
            "You should probably TRAIN this model on a down-stream task to be able to use it for predictions and inference.\n"
          ]
        }
      ],
      "source": [
        "# Load pre-trained IndoBERT with classification head\n",
        "model = BertForSequenceClassification.from_pretrained('indobenchmark/indobert-base-p2', num_labels=2)\n",
        "model = model.to(device)\n"
      ]
    },
    {
      "cell_type": "code",
      "execution_count": null,
      "metadata": {},
      "outputs": [],
      "source": [
        "# Optimizer\n",
        "optimizer = AdamW(model.parameters(), lr=2e-5)\n",
        "# Loss Function\n",
        "loss_fn = torch.nn.CrossEntropyLoss()\n"
      ]
    },
    {
      "cell_type": "code",
      "execution_count": 90,
      "metadata": {},
      "outputs": [
        {
          "name": "stdout",
          "output_type": "stream",
          "text": [
            "Epoch 1/3, Loss: 0.02969232316245325\n",
            "Epoch 2/3, Loss: 0.055460152767045655\n",
            "Epoch 3/3, Loss: 0.028164640851900912\n"
          ]
        }
      ],
      "source": [
        "epochs = 3\n",
        "for epoch in range(epochs):\n",
        "    model.train()\n",
        "    total_loss = 0\n",
        "    for batch in train_loader:\n",
        "        optimizer.zero_grad()\n",
        "        input_ids = batch['input_ids'].to(device)\n",
        "        attention_mask = batch['attention_mask'].to(device)\n",
        "        labels = batch['label'].to(device)\n",
        "\n",
        "        outputs = model(input_ids=input_ids, attention_mask=attention_mask, labels=labels)\n",
        "        loss = outputs.loss\n",
        "        logits = outputs.logits\n",
        "\n",
        "        total_loss += loss.item()\n",
        "        loss.backward()\n",
        "        optimizer.step()\n",
        "\n",
        "    print(f\"Epoch {epoch + 1}/{epochs}, Loss: {total_loss / len(train_loader)}\")\n"
      ]
    },
    {
      "cell_type": "code",
      "execution_count": 91,
      "metadata": {},
      "outputs": [],
      "source": [
        "model.eval()\n",
        "all_preds = []\n",
        "all_labels = []\n",
        "with torch.no_grad():\n",
        "    for batch in test_loader:\n",
        "        input_ids = batch['input_ids'].to(device)\n",
        "        attention_mask = batch['attention_mask'].to(device)\n",
        "        labels = batch['label'].to(device)\n",
        "\n",
        "        outputs = model(input_ids=input_ids, attention_mask=attention_mask)\n",
        "        logits = outputs.logits\n",
        "        preds = torch.argmax(logits, dim=1)\n",
        "\n",
        "        all_preds.extend(preds.cpu().numpy())\n",
        "        all_labels.extend(labels.cpu().numpy())\n"
      ]
    },
    {
      "cell_type": "code",
      "execution_count": 92,
      "metadata": {},
      "outputs": [
        {
          "name": "stdout",
          "output_type": "stream",
          "text": [
            "Accuracy (IndoBERT): 0.8343949044585988\n",
            "Classification Report:\n",
            "               precision    recall  f1-score   support\n",
            "\n",
            "           0       0.84      0.82      0.83        79\n",
            "           1       0.82      0.85      0.84        78\n",
            "\n",
            "    accuracy                           0.83       157\n",
            "   macro avg       0.83      0.83      0.83       157\n",
            "weighted avg       0.83      0.83      0.83       157\n",
            "\n"
          ]
        }
      ],
      "source": [
        "accuracy = accuracy_score(all_labels, all_preds)\n",
        "print(\"Accuracy (IndoBERT):\", accuracy)\n",
        "print(\"Classification Report:\\n\", classification_report(all_labels, all_preds))\n"
      ]
    },
    {
      "cell_type": "markdown",
      "metadata": {},
      "source": [
        "##### 2.1.2 Hyperparameter Tuning Indobert"
      ]
    },
    {
      "cell_type": "code",
      "execution_count": 94,
      "metadata": {},
      "outputs": [],
      "source": [
        "hyperparameter_space = {\n",
        "    'learning_rate': [2e-5, 3e-5, 5e-5],\n",
        "    'batch_size': [16, 32],\n",
        "    'epochs': [2, 3, 4]\n",
        "}\n"
      ]
    },
    {
      "cell_type": "code",
      "execution_count": 93,
      "metadata": {},
      "outputs": [],
      "source": [
        "best_accuracy = 0\n",
        "best_params = {}"
      ]
    },
    {
      "cell_type": "code",
      "execution_count": 95,
      "metadata": {},
      "outputs": [
        {
          "name": "stdout",
          "output_type": "stream",
          "text": [
            "Testing with lr=2e-05, batch_size=16, epochs=2\n"
          ]
        },
        {
          "name": "stderr",
          "output_type": "stream",
          "text": [
            "Some weights of BertForSequenceClassification were not initialized from the model checkpoint at indobenchmark/indobert-base-p2 and are newly initialized: ['classifier.bias', 'classifier.weight']\n",
            "You should probably TRAIN this model on a down-stream task to be able to use it for predictions and inference.\n",
            "c:\\Users\\Lenovo\\env\\Lib\\site-packages\\transformers\\optimization.py:591: FutureWarning: This implementation of AdamW is deprecated and will be removed in a future version. Use the PyTorch implementation torch.optim.AdamW instead, or set `no_deprecation_warning=True` to disable this warning\n",
            "  warnings.warn(\n"
          ]
        },
        {
          "name": "stdout",
          "output_type": "stream",
          "text": [
            "Epoch 1/2, Loss: 0.5093717344105244\n",
            "Epoch 2/2, Loss: 0.24897656282410024\n",
            "Testing with lr=2e-05, batch_size=16, epochs=3\n"
          ]
        },
        {
          "name": "stderr",
          "output_type": "stream",
          "text": [
            "Some weights of BertForSequenceClassification were not initialized from the model checkpoint at indobenchmark/indobert-base-p2 and are newly initialized: ['classifier.bias', 'classifier.weight']\n",
            "You should probably TRAIN this model on a down-stream task to be able to use it for predictions and inference.\n"
          ]
        },
        {
          "name": "stdout",
          "output_type": "stream",
          "text": [
            "Epoch 1/3, Loss: 0.5573879294097424\n",
            "Epoch 2/3, Loss: 0.2468533182516694\n",
            "Epoch 3/3, Loss: 0.08163820721674711\n",
            "Testing with lr=2e-05, batch_size=16, epochs=4\n"
          ]
        },
        {
          "name": "stderr",
          "output_type": "stream",
          "text": [
            "Some weights of BertForSequenceClassification were not initialized from the model checkpoint at indobenchmark/indobert-base-p2 and are newly initialized: ['classifier.bias', 'classifier.weight']\n",
            "You should probably TRAIN this model on a down-stream task to be able to use it for predictions and inference.\n"
          ]
        },
        {
          "name": "stdout",
          "output_type": "stream",
          "text": [
            "Epoch 1/4, Loss: 0.5219862002879381\n",
            "Epoch 2/4, Loss: 0.27389766462147236\n",
            "Epoch 3/4, Loss: 0.16381229662802071\n",
            "Epoch 4/4, Loss: 0.05144074271665886\n",
            "Testing with lr=2e-05, batch_size=32, epochs=2\n"
          ]
        },
        {
          "name": "stderr",
          "output_type": "stream",
          "text": [
            "Some weights of BertForSequenceClassification were not initialized from the model checkpoint at indobenchmark/indobert-base-p2 and are newly initialized: ['classifier.bias', 'classifier.weight']\n",
            "You should probably TRAIN this model on a down-stream task to be able to use it for predictions and inference.\n"
          ]
        },
        {
          "name": "stdout",
          "output_type": "stream",
          "text": [
            "Epoch 1/2, Loss: 0.5542582109570503\n",
            "Epoch 2/2, Loss: 0.2843752712011337\n",
            "Testing with lr=2e-05, batch_size=32, epochs=3\n"
          ]
        },
        {
          "name": "stderr",
          "output_type": "stream",
          "text": [
            "Some weights of BertForSequenceClassification were not initialized from the model checkpoint at indobenchmark/indobert-base-p2 and are newly initialized: ['classifier.bias', 'classifier.weight']\n",
            "You should probably TRAIN this model on a down-stream task to be able to use it for predictions and inference.\n"
          ]
        },
        {
          "name": "stdout",
          "output_type": "stream",
          "text": [
            "Epoch 1/3, Loss: 0.5760920763015747\n",
            "Epoch 2/3, Loss: 0.3070092909038067\n",
            "Epoch 3/3, Loss: 0.14997496912255884\n",
            "Testing with lr=2e-05, batch_size=32, epochs=4\n"
          ]
        },
        {
          "name": "stderr",
          "output_type": "stream",
          "text": [
            "Some weights of BertForSequenceClassification were not initialized from the model checkpoint at indobenchmark/indobert-base-p2 and are newly initialized: ['classifier.bias', 'classifier.weight']\n",
            "You should probably TRAIN this model on a down-stream task to be able to use it for predictions and inference.\n"
          ]
        },
        {
          "name": "stdout",
          "output_type": "stream",
          "text": [
            "Epoch 1/4, Loss: 0.5457675084471703\n",
            "Epoch 2/4, Loss: 0.3118745654821396\n",
            "Epoch 3/4, Loss: 0.1877175599336624\n",
            "Epoch 4/4, Loss: 0.07128717373125255\n",
            "Testing with lr=3e-05, batch_size=16, epochs=2\n"
          ]
        },
        {
          "name": "stderr",
          "output_type": "stream",
          "text": [
            "Some weights of BertForSequenceClassification were not initialized from the model checkpoint at indobenchmark/indobert-base-p2 and are newly initialized: ['classifier.bias', 'classifier.weight']\n",
            "You should probably TRAIN this model on a down-stream task to be able to use it for predictions and inference.\n"
          ]
        },
        {
          "name": "stdout",
          "output_type": "stream",
          "text": [
            "Epoch 1/2, Loss: 0.517913764808327\n",
            "Epoch 2/2, Loss: 0.2310643338598311\n",
            "Testing with lr=3e-05, batch_size=16, epochs=3\n"
          ]
        },
        {
          "name": "stderr",
          "output_type": "stream",
          "text": [
            "Some weights of BertForSequenceClassification were not initialized from the model checkpoint at indobenchmark/indobert-base-p2 and are newly initialized: ['classifier.bias', 'classifier.weight']\n",
            "You should probably TRAIN this model on a down-stream task to be able to use it for predictions and inference.\n"
          ]
        },
        {
          "name": "stdout",
          "output_type": "stream",
          "text": [
            "Epoch 1/3, Loss: 0.4998307652771473\n",
            "Epoch 2/3, Loss: 0.25566638763993976\n",
            "Epoch 3/3, Loss: 0.17936633339850233\n",
            "Testing with lr=3e-05, batch_size=16, epochs=4\n"
          ]
        },
        {
          "name": "stderr",
          "output_type": "stream",
          "text": [
            "Some weights of BertForSequenceClassification were not initialized from the model checkpoint at indobenchmark/indobert-base-p2 and are newly initialized: ['classifier.bias', 'classifier.weight']\n",
            "You should probably TRAIN this model on a down-stream task to be able to use it for predictions and inference.\n"
          ]
        },
        {
          "name": "stdout",
          "output_type": "stream",
          "text": [
            "Epoch 1/4, Loss: 0.5241314485669136\n",
            "Epoch 2/4, Loss: 0.2727113240864128\n",
            "Epoch 3/4, Loss: 0.1091043281601742\n",
            "Epoch 4/4, Loss: 0.045052002498414366\n",
            "Testing with lr=3e-05, batch_size=32, epochs=2\n"
          ]
        },
        {
          "name": "stderr",
          "output_type": "stream",
          "text": [
            "Some weights of BertForSequenceClassification were not initialized from the model checkpoint at indobenchmark/indobert-base-p2 and are newly initialized: ['classifier.bias', 'classifier.weight']\n",
            "You should probably TRAIN this model on a down-stream task to be able to use it for predictions and inference.\n"
          ]
        },
        {
          "name": "stdout",
          "output_type": "stream",
          "text": [
            "Epoch 1/2, Loss: 0.5124127373099328\n",
            "Epoch 2/2, Loss: 0.2313323225826025\n",
            "Testing with lr=3e-05, batch_size=32, epochs=3\n"
          ]
        },
        {
          "name": "stderr",
          "output_type": "stream",
          "text": [
            "Some weights of BertForSequenceClassification were not initialized from the model checkpoint at indobenchmark/indobert-base-p2 and are newly initialized: ['classifier.bias', 'classifier.weight']\n",
            "You should probably TRAIN this model on a down-stream task to be able to use it for predictions and inference.\n"
          ]
        },
        {
          "name": "stdout",
          "output_type": "stream",
          "text": [
            "Epoch 1/3, Loss: 0.5360196202993393\n",
            "Epoch 2/3, Loss: 0.2283964853733778\n",
            "Epoch 3/3, Loss: 0.10340985022485256\n",
            "Testing with lr=3e-05, batch_size=32, epochs=4\n"
          ]
        },
        {
          "name": "stderr",
          "output_type": "stream",
          "text": [
            "Some weights of BertForSequenceClassification were not initialized from the model checkpoint at indobenchmark/indobert-base-p2 and are newly initialized: ['classifier.bias', 'classifier.weight']\n",
            "You should probably TRAIN this model on a down-stream task to be able to use it for predictions and inference.\n"
          ]
        },
        {
          "name": "stdout",
          "output_type": "stream",
          "text": [
            "Epoch 1/4, Loss: 0.5902820006012917\n",
            "Epoch 2/4, Loss: 0.28674570843577385\n",
            "Epoch 3/4, Loss: 0.13417042279615998\n",
            "Epoch 4/4, Loss: 0.05216868931893259\n",
            "Testing with lr=5e-05, batch_size=16, epochs=2\n"
          ]
        },
        {
          "name": "stderr",
          "output_type": "stream",
          "text": [
            "Some weights of BertForSequenceClassification were not initialized from the model checkpoint at indobenchmark/indobert-base-p2 and are newly initialized: ['classifier.bias', 'classifier.weight']\n",
            "You should probably TRAIN this model on a down-stream task to be able to use it for predictions and inference.\n"
          ]
        },
        {
          "name": "stdout",
          "output_type": "stream",
          "text": [
            "Epoch 1/2, Loss: 0.6400703243911267\n",
            "Epoch 2/2, Loss: 0.4197372902184725\n",
            "Testing with lr=5e-05, batch_size=16, epochs=3\n"
          ]
        },
        {
          "name": "stderr",
          "output_type": "stream",
          "text": [
            "Some weights of BertForSequenceClassification were not initialized from the model checkpoint at indobenchmark/indobert-base-p2 and are newly initialized: ['classifier.bias', 'classifier.weight']\n",
            "You should probably TRAIN this model on a down-stream task to be able to use it for predictions and inference.\n"
          ]
        },
        {
          "name": "stdout",
          "output_type": "stream",
          "text": [
            "Epoch 1/3, Loss: 0.511025695875287\n",
            "Epoch 2/3, Loss: 0.25683445371687413\n",
            "Epoch 3/3, Loss: 0.09571913913823664\n",
            "Testing with lr=5e-05, batch_size=16, epochs=4\n"
          ]
        },
        {
          "name": "stderr",
          "output_type": "stream",
          "text": [
            "Some weights of BertForSequenceClassification were not initialized from the model checkpoint at indobenchmark/indobert-base-p2 and are newly initialized: ['classifier.bias', 'classifier.weight']\n",
            "You should probably TRAIN this model on a down-stream task to be able to use it for predictions and inference.\n"
          ]
        },
        {
          "name": "stdout",
          "output_type": "stream",
          "text": [
            "Epoch 1/4, Loss: 0.5345123574137688\n",
            "Epoch 2/4, Loss: 0.31323414025828245\n",
            "Epoch 3/4, Loss: 0.15211928831413388\n",
            "Epoch 4/4, Loss: 0.07997675954829901\n",
            "Testing with lr=5e-05, batch_size=32, epochs=2\n"
          ]
        },
        {
          "name": "stderr",
          "output_type": "stream",
          "text": [
            "Some weights of BertForSequenceClassification were not initialized from the model checkpoint at indobenchmark/indobert-base-p2 and are newly initialized: ['classifier.bias', 'classifier.weight']\n",
            "You should probably TRAIN this model on a down-stream task to be able to use it for predictions and inference.\n"
          ]
        },
        {
          "name": "stdout",
          "output_type": "stream",
          "text": [
            "Epoch 1/2, Loss: 0.6017230436205864\n",
            "Epoch 2/2, Loss: 0.31844894140958785\n",
            "Testing with lr=5e-05, batch_size=32, epochs=3\n"
          ]
        },
        {
          "name": "stderr",
          "output_type": "stream",
          "text": [
            "Some weights of BertForSequenceClassification were not initialized from the model checkpoint at indobenchmark/indobert-base-p2 and are newly initialized: ['classifier.bias', 'classifier.weight']\n",
            "You should probably TRAIN this model on a down-stream task to be able to use it for predictions and inference.\n"
          ]
        },
        {
          "name": "stdout",
          "output_type": "stream",
          "text": [
            "Epoch 1/3, Loss: 0.5803822770714759\n",
            "Epoch 2/3, Loss: 0.2703511007130146\n",
            "Epoch 3/3, Loss: 0.09926427435129881\n",
            "Testing with lr=5e-05, batch_size=32, epochs=4\n"
          ]
        },
        {
          "name": "stderr",
          "output_type": "stream",
          "text": [
            "Some weights of BertForSequenceClassification were not initialized from the model checkpoint at indobenchmark/indobert-base-p2 and are newly initialized: ['classifier.bias', 'classifier.weight']\n",
            "You should probably TRAIN this model on a down-stream task to be able to use it for predictions and inference.\n"
          ]
        },
        {
          "name": "stdout",
          "output_type": "stream",
          "text": [
            "Epoch 1/4, Loss: 0.5665184080600738\n",
            "Epoch 2/4, Loss: 0.28735905662178995\n",
            "Epoch 3/4, Loss: 0.08528618169948458\n",
            "Epoch 4/4, Loss: 0.06350248074159026\n"
          ]
        }
      ],
      "source": [
        "for lr in hyperparameter_space['learning_rate']:\n",
        "    for batch_size in hyperparameter_space['batch_size']:\n",
        "        for epochs in hyperparameter_space['epochs']:\n",
        "            print(f\"Testing with lr={lr}, batch_size={batch_size}, epochs={epochs}\")\n",
        "\n",
        "            # Buat DataLoader baru dengan batch size yang berbeda\n",
        "            train_loader = DataLoader(train_dataset, batch_size=batch_size, shuffle=True)\n",
        "            test_loader = DataLoader(test_dataset, batch_size=batch_size)\n",
        "\n",
        "            # Load model IndoBERT\n",
        "            model = BertForSequenceClassification.from_pretrained(\n",
        "                'indobenchmark/indobert-base-p2',\n",
        "                num_labels=2\n",
        "            )\n",
        "            model = model.to(device)\n",
        "\n",
        "            # Optimizer\n",
        "            optimizer = AdamW(model.parameters(), lr=lr)\n",
        "\n",
        "            # Loss Function\n",
        "            loss_fn = torch.nn.CrossEntropyLoss()\n",
        "\n",
        "            # Training\n",
        "            for epoch in range(epochs):\n",
        "                model.train()\n",
        "                total_loss = 0\n",
        "                for batch in train_loader:\n",
        "                    optimizer.zero_grad()\n",
        "                    input_ids = batch['input_ids'].to(device)\n",
        "                    attention_mask = batch['attention_mask'].to(device)\n",
        "                    labels = batch['label'].to(device)\n",
        "\n",
        "                    outputs = model(input_ids=input_ids, attention_mask=attention_mask, labels=labels)\n",
        "                    loss = outputs.loss\n",
        "                    loss.backward()\n",
        "                    optimizer.step()\n",
        "                    total_loss += loss.item()\n",
        "                print(f\"Epoch {epoch + 1}/{epochs}, Loss: {total_loss / len(train_loader)}\")\n"
      ]
    },
    {
      "cell_type": "code",
      "execution_count": 103,
      "metadata": {},
      "outputs": [
        {
          "name": "stdout",
          "output_type": "stream",
          "text": [
            "Accuracy for lr=5e-05, batch_size=32, epochs=4: 0.8407643312101911\n"
          ]
        }
      ],
      "source": [
        "            # Evaluation\n",
        "            model.eval()\n",
        "            all_preds = []\n",
        "            all_labels = []\n",
        "            with torch.no_grad():\n",
        "                for batch in test_loader:\n",
        "                    input_ids = batch['input_ids'].to(device)\n",
        "                    attention_mask = batch['attention_mask'].to(device)\n",
        "                    labels = batch['label'].to(device)\n",
        "\n",
        "                    outputs = model(input_ids=input_ids, attention_mask=attention_mask)\n",
        "                    logits = outputs.logits\n",
        "                    preds = torch.argmax(logits, dim=1)\n",
        "\n",
        "                    all_preds.extend(preds.cpu().numpy())\n",
        "                    all_labels.extend(labels.cpu().numpy())\n",
        "\n",
        "            accuracy = accuracy_score(all_labels, all_preds)\n",
        "            print(f\"Accuracy for lr={lr}, batch_size={batch_size}, epochs={epochs}: {accuracy}\")\n",
        "\n",
        "            # Simpan hyperparameter terbaik\n",
        "            if accuracy > best_accuracy:\n",
        "                best_accuracy = accuracy\n",
        "                best_params = {\n",
        "                    'learning_rate': lr,\n",
        "                    'batch_size': batch_size,\n",
        "                    'epochs': epochs\n",
        "                }\n"
      ]
    },
    {
      "cell_type": "code",
      "execution_count": 104,
      "metadata": {},
      "outputs": [
        {
          "name": "stdout",
          "output_type": "stream",
          "text": [
            "Best Hyperparameters: {'learning_rate': 5e-05, 'batch_size': 32, 'epochs': 4}\n",
            "Best Accuracy: 0.8407643312101911\n",
            "Classification Report:\n",
            "               precision    recall  f1-score   support\n",
            "\n",
            "           0       0.88      0.80      0.83        79\n",
            "           1       0.81      0.88      0.85        78\n",
            "\n",
            "    accuracy                           0.84       157\n",
            "   macro avg       0.84      0.84      0.84       157\n",
            "weighted avg       0.84      0.84      0.84       157\n",
            "\n"
          ]
        }
      ],
      "source": [
        "# ---- 3. Best Parameters ----\n",
        "print(\"Best Hyperparameters:\", best_params)\n",
        "print(\"Best Accuracy:\", best_accuracy)\n",
        "print(\"Classification Report:\\n\", classification_report(all_labels, all_preds))\n"
      ]
    },
    {
      "cell_type": "markdown",
      "metadata": {},
      "source": [
        "# Kesimpulan "
      ]
    },
    {
      "cell_type": "code",
      "execution_count": null,
      "metadata": {},
      "outputs": [],
      "source": []
    },
    {
      "cell_type": "markdown",
      "metadata": {},
      "source": [
        "# Testing"
      ]
    },
    {
      "cell_type": "code",
      "execution_count": 105,
      "metadata": {},
      "outputs": [
        {
          "name": "stdout",
          "output_type": "stream",
          "text": [
            "Predictions: [1 0]\n"
          ]
        }
      ],
      "source": [
        "new_comments = [\"Kurikulum Merdeka sangat membantu!\", \"Ini hanya membebani siswa.\"]\n",
        "new_tokens = tokenizer(new_comments, truncation=True, padding='max_length', max_length=128, return_tensors=\"pt\")\n",
        "\n",
        "# Prediksi menggunakan model terbaik (contoh IndoBERT)\n",
        "model.eval()\n",
        "with torch.no_grad():\n",
        "    inputs = new_tokens['input_ids'].to(device)\n",
        "    attention_mask = new_tokens['attention_mask'].to(device)\n",
        "    outputs = model(inputs, attention_mask=attention_mask)\n",
        "    predictions = torch.argmax(outputs.logits, dim=1)\n",
        "print(\"Predictions:\", predictions.cpu().numpy())  # 0 untuk Kontra, 1 untuk Pro\n"
      ]
    },
    {
      "cell_type": "markdown",
      "metadata": {},
      "source": [
        "# Evaluasi Confusion Matriks"
      ]
    },
    {
      "cell_type": "code",
      "execution_count": 52,
      "metadata": {},
      "outputs": [],
      "source": [
        "import pandas as pd\n",
        "from sklearn.model_selection import train_test_split\n",
        "from sklearn.linear_model import LogisticRegression\n",
        "from sklearn.ensemble import RandomForestClassifier\n",
        "from sklearn.svm import SVC\n",
        "from xgboost import XGBClassifier\n",
        "from sklearn.metrics import classification_report, confusion_matrix, ConfusionMatrixDisplay\n",
        "from gensim.models.doc2vec import Doc2Vec, TaggedDocument\n",
        "import matplotlib.pyplot as plt"
      ]
    },
    {
      "cell_type": "code",
      "execution_count": 97,
      "metadata": {},
      "outputs": [],
      "source": [
        "# Fungsi untuk menampilkan confusion matrix\n",
        "def plot_confusion_matrix(y_true, y_pred, model_name):\n",
        "    cm = confusion_matrix(y_true, y_pred)\n",
        "    disp = ConfusionMatrixDisplay(confusion_matrix=cm, display_labels=[\"Kontra\", \"Pro\"])\n",
        "    disp.plot(cmap='Greens')\n",
        "    plt.title(f\"Confusion Matrix - {model_name}\")\n",
        "    plt.show()\n"
      ]
    },
    {
      "cell_type": "code",
      "execution_count": 83,
      "metadata": {},
      "outputs": [],
      "source": [
        "# Load dataset\n",
        "data = pd.read_excel('balanced_data.xlsx')\n",
        "data['Label'] = data['Label'].map({'Kontra': 0, 'Pro': 1})  # Mapping label untuk 2 label\n"
      ]
    },
    {
      "cell_type": "code",
      "execution_count": 84,
      "metadata": {},
      "outputs": [],
      "source": [
        "# Split data\n",
        "X_train, X_test, y_train, y_test = train_test_split(\n",
        "    data['Cleaned_Comment'], data['Label'], test_size=0.2, random_state=42, stratify=data['Label']\n",
        ")\n",
        "\n",
        "# Proses Doc2Vec\n",
        "documents = [TaggedDocument(words=text.split(), tags=[i]) for i, text in enumerate(X_train)]\n",
        "doc2vec_model = Doc2Vec(documents, vector_size=100, window=5, min_count=2, workers=4, epochs=40)\n",
        "\n",
        "# Embedding data\n",
        "X_train_doc2vec = [doc2vec_model.infer_vector(text.split()) for text in X_train]\n",
        "X_test_doc2vec = [doc2vec_model.infer_vector(text.split()) for text in X_test]\n"
      ]
    },
    {
      "cell_type": "code",
      "execution_count": 98,
      "metadata": {},
      "outputs": [
        {
          "name": "stdout",
          "output_type": "stream",
          "text": [
            "Logistic Regression:\n",
            "               precision    recall  f1-score   support\n",
            "\n",
            "           0       0.82      0.86      0.84        79\n",
            "           1       0.85      0.81      0.83        78\n",
            "\n",
            "    accuracy                           0.83       157\n",
            "   macro avg       0.84      0.83      0.83       157\n",
            "weighted avg       0.84      0.83      0.83       157\n",
            "\n"
          ]
        },
        {
          "data": {
            "image/png": "[encoded data removed]",
            "text/plain": [
              "<Figure size 640x480 with 2 Axes>"
            ]
          },
          "metadata": {},
          "output_type": "display_data"
        },
        {
          "name": "stdout",
          "output_type": "stream",
          "text": [
            "Random Forest:\n",
            "               precision    recall  f1-score   support\n",
            "\n",
            "           0       0.81      0.87      0.84        79\n",
            "           1       0.86      0.79      0.83        78\n",
            "\n",
            "    accuracy                           0.83       157\n",
            "   macro avg       0.84      0.83      0.83       157\n",
            "weighted avg       0.84      0.83      0.83       157\n",
            "\n"
          ]
        },
        {
          "data": {
            "image/png": "[encoded data removed]",
            "text/plain": [
              "<Figure size 640x480 with 2 Axes>"
            ]
          },
          "metadata": {},
          "output_type": "display_data"
        },
        {
          "name": "stdout",
          "output_type": "stream",
          "text": [
            "SVM:\n",
            "               precision    recall  f1-score   support\n",
            "\n",
            "           0       0.87      0.84      0.85        79\n",
            "           1       0.84      0.87      0.86        78\n",
            "\n",
            "    accuracy                           0.85       157\n",
            "   macro avg       0.85      0.85      0.85       157\n",
            "weighted avg       0.85      0.85      0.85       157\n",
            "\n"
          ]
        },
        {
          "data": {
            "image/png": "[encoded data removed]",
            "text/plain": [
              "<Figure size 640x480 with 2 Axes>"
            ]
          },
          "metadata": {},
          "output_type": "display_data"
        },
        {
          "name": "stdout",
          "output_type": "stream",
          "text": [
            "XGBoost:\n",
            "               precision    recall  f1-score   support\n",
            "\n",
            "           0       0.81      0.80      0.80        79\n",
            "           1       0.80      0.81      0.80        78\n",
            "\n",
            "    accuracy                           0.80       157\n",
            "   macro avg       0.80      0.80      0.80       157\n",
            "weighted avg       0.80      0.80      0.80       157\n",
            "\n"
          ]
        },
        {
          "data": {
            "image/png": "[encoded data removed]",
            "text/plain": [
              "<Figure size 640x480 with 2 Axes>"
            ]
          },
          "metadata": {},
          "output_type": "display_data"
        }
      ],
      "source": [
        "# Logistic Regression\n",
        "logistic_model = LogisticRegression(C=10, max_iter=100, penalty='l1', solver='liblinear')\n",
        "logistic_model.fit(X_train_doc2vec, y_train)\n",
        "y_pred_logistic = logistic_model.predict(X_test_doc2vec)\n",
        "print(\"Logistic Regression:\\n\", classification_report(y_test, y_pred_logistic))\n",
        "plot_confusion_matrix(y_test, y_pred_logistic, \"Logistic Regression\")\n",
        "\n",
        "# Random Forest\n",
        "rf_model = RandomForestClassifier(\n",
        "    n_estimators=50, max_depth=10, min_samples_leaf=2, min_samples_split=10, bootstrap=False\n",
        ")\n",
        "rf_model.fit(X_train_doc2vec, y_train)\n",
        "y_pred_rf = rf_model.predict(X_test_doc2vec)\n",
        "print(\"Random Forest:\\n\", classification_report(y_test, y_pred_rf))\n",
        "plot_confusion_matrix(y_test, y_pred_rf, \"Random Forest\")\n",
        "\n",
        "# SVM\n",
        "svm_model = SVC(C=100, gamma='scale', kernel='linear')\n",
        "svm_model.fit(X_train_doc2vec, y_train)\n",
        "y_pred_svm = svm_model.predict(X_test_doc2vec)\n",
        "print(\"SVM:\\n\", classification_report(y_test, y_pred_svm))\n",
        "plot_confusion_matrix(y_test, y_pred_svm, \"SVM\")\n",
        "\n",
        "# XGBoost\n",
        "xgb_model = XGBClassifier(\n",
        "    colsample_bytree=0.8, learning_rate=0.2, max_depth=3, n_estimators=200, subsample=1.0\n",
        ")\n",
        "xgb_model.fit(X_train_doc2vec, y_train)\n",
        "y_pred_xgb = xgb_model.predict(X_test_doc2vec)\n",
        "print(\"XGBoost:\\n\", classification_report(y_test, y_pred_xgb))\n",
        "plot_confusion_matrix(y_test, y_pred_xgb, \"XGBoost\")"
      ]
    },
    {
      "cell_type": "code",
      "execution_count": 86,
      "metadata": {},
      "outputs": [],
      "source": [
        "# Dataset Class\n",
        "class TextDataset(Dataset):\n",
        "    def __init__(self, texts, labels, tokenizer, max_length):\n",
        "        self.texts = texts\n",
        "        self.labels = labels\n",
        "        self.tokenizer = tokenizer\n",
        "        self.max_length = max_length\n",
        "\n",
        "    def __len__(self):\n",
        "        return len(self.texts)\n",
        "\n",
        "    def __getitem__(self, idx):\n",
        "        text = self.texts[idx]\n",
        "        label = self.labels[idx]\n",
        "        encoding = self.tokenizer(\n",
        "            text,\n",
        "            truncation=True,\n",
        "            padding='max_length',\n",
        "            max_length=self.max_length,\n",
        "            return_tensors=\"pt\"\n",
        "        )\n",
        "        return {\n",
        "            'input_ids': encoding['input_ids'].squeeze(0),\n",
        "            'attention_mask': encoding['attention_mask'].squeeze(0),\n",
        "            'label': torch.tensor(label, dtype=torch.long)\n",
        "        }\n"
      ]
    },
    {
      "cell_type": "code",
      "execution_count": 87,
      "metadata": {},
      "outputs": [
        {
          "name": "stderr",
          "output_type": "stream",
          "text": [
            "Some weights of BertForSequenceClassification were not initialized from the model checkpoint at indobenchmark/indobert-base-p2 and are newly initialized: ['classifier.bias', 'classifier.weight']\n",
            "You should probably TRAIN this model on a down-stream task to be able to use it for predictions and inference.\n",
            "c:\\Users\\Lenovo\\env\\Lib\\site-packages\\transformers\\optimization.py:591: FutureWarning: This implementation of AdamW is deprecated and will be removed in a future version. Use the PyTorch implementation torch.optim.AdamW instead, or set `no_deprecation_warning=True` to disable this warning\n",
            "  warnings.warn(\n"
          ]
        }
      ],
      "source": [
        "# Tokenizer\n",
        "max_length = 128\n",
        "tokenizer = BertTokenizer.from_pretrained('indobenchmark/indobert-base-p2')\n",
        "\n",
        "# Dataset dan DataLoader\n",
        "train_dataset = TextDataset(X_train.tolist(), y_train.tolist(), tokenizer, max_length)\n",
        "test_dataset = TextDataset(X_test.tolist(), y_test.tolist(), tokenizer, max_length)\n",
        "\n",
        "train_loader = DataLoader(train_dataset, batch_size=32, shuffle=True)\n",
        "test_loader = DataLoader(test_dataset, batch_size=32)\n",
        "\n",
        "# Model\n",
        "device = torch.device('cuda' if torch.cuda.is_available() else 'cpu')\n",
        "model = BertForSequenceClassification.from_pretrained('indobenchmark/indobert-base-p2', num_labels=2)\n",
        "model = model.to(device)\n",
        "\n",
        "# Optimizer\n",
        "optimizer = AdamW(model.parameters(), lr=5e-5)\n"
      ]
    },
    {
      "cell_type": "code",
      "execution_count": 88,
      "metadata": {},
      "outputs": [
        {
          "name": "stdout",
          "output_type": "stream",
          "text": [
            "Epoch 1/4, Loss: 0.5603860855102539\n",
            "Epoch 2/4, Loss: 0.23608038984239102\n",
            "Epoch 3/4, Loss: 0.19119498813524843\n",
            "Epoch 4/4, Loss: 0.09081158954650163\n"
          ]
        }
      ],
      "source": [
        "# Training Loop\n",
        "epochs = 4\n",
        "for epoch in range(epochs):\n",
        "    model.train()\n",
        "    total_loss = 0\n",
        "    for batch in train_loader:\n",
        "        optimizer.zero_grad()\n",
        "        input_ids = batch['input_ids'].to(device)\n",
        "        attention_mask = batch['attention_mask'].to(device)\n",
        "        labels = batch['label'].to(device)\n",
        "\n",
        "        outputs = model(input_ids=input_ids, attention_mask=attention_mask, labels=labels)\n",
        "        loss = outputs.loss\n",
        "        loss.backward()\n",
        "        optimizer.step()\n",
        "\n",
        "        total_loss += loss.item()\n",
        "\n",
        "    print(f\"Epoch {epoch + 1}/{epochs}, Loss: {total_loss / len(train_loader)}\")"
      ]
    },
    {
      "cell_type": "code",
      "execution_count": 89,
      "metadata": {},
      "outputs": [],
      "source": [
        "# Evaluation\n",
        "model.eval()\n",
        "all_preds = []\n",
        "all_labels = []\n",
        "with torch.no_grad():\n",
        "    for batch in test_loader:\n",
        "        input_ids = batch['input_ids'].to(device)\n",
        "        attention_mask = batch['attention_mask'].to(device)\n",
        "        labels = batch['label'].to(device)\n",
        "\n",
        "        outputs = model(input_ids=input_ids, attention_mask=attention_mask)\n",
        "        logits = outputs.logits\n",
        "        preds = torch.argmax(logits, dim=1)\n",
        "\n",
        "        all_preds.extend(preds.cpu().numpy())\n",
        "        all_labels.extend(labels.cpu().numpy())\n"
      ]
    },
    {
      "cell_type": "code",
      "execution_count": 100,
      "metadata": {},
      "outputs": [
        {
          "data": {
            "image/png": "[encoded data removed]",
            "text/plain": [
              "<Figure size 640x480 with 2 Axes>"
            ]
          },
          "metadata": {},
          "output_type": "display_data"
        }
      ],
      "source": [
        "# Metrics\n",
        "accuracy = accuracy_score(all_labels, all_preds)\n",
        "plot_confusion_matrix(all_labels, all_preds, \"IndoBERT\")\n"
      ]
    },
    {
      "cell_type": "markdown",
      "metadata": {},
      "source": [
        "# Kata-Kata Paling Berpengaruh"
      ]
    },
    {
      "cell_type": "code",
      "execution_count": 108,
      "metadata": {},
      "outputs": [],
      "source": [
        "from sklearn.feature_extraction.text import CountVectorizer\n",
        "from sklearn.ensemble import RandomForestClassifier\n",
        "import pandas as pd\n",
        "import matplotlib.pyplot as plt"
      ]
    },
    {
      "cell_type": "code",
      "execution_count": 114,
      "metadata": {},
      "outputs": [],
      "source": [
        "data = pd.read_excel('balanced_data.xlsx')"
      ]
    },
    {
      "cell_type": "code",
      "execution_count": 115,
      "metadata": {},
      "outputs": [],
      "source": [
        "X = data['Cleaned_Comment']\n",
        "y = data['Label'].map({'Kontra': 0, 'Pro': 1})  # Konversi label ke numerik\n"
      ]
    },
    {
      "cell_type": "code",
      "execution_count": 117,
      "metadata": {},
      "outputs": [],
      "source": [
        "vectorizer = CountVectorizer(max_features=1000, stop_words='english')  # Maksimal 1000 fitur\n",
        "X_vectorized = vectorizer.fit_transform(X)\n"
      ]
    },
    {
      "cell_type": "code",
      "execution_count": 118,
      "metadata": {},
      "outputs": [
        {
          "data": {
            "text/html": [
              "<style>#sk-container-id-7 {color: black;background-color: white;}#sk-container-id-7 pre{padding: 0;}#sk-container-id-7 div.sk-toggleable {background-color: white;}#sk-container-id-7 label.sk-toggleable__label {cursor: pointer;display: block;width: 100%;margin-bottom: 0;padding: 0.3em;box-sizing: border-box;text-align: center;}#sk-container-id-7 label.sk-toggleable__label-arrow:before {content: \"▸\";float: left;margin-right: 0.25em;color: #696969;}#sk-container-id-7 label.sk-toggleable__label-arrow:hover:before {color: black;}#sk-container-id-7 div.sk-estimator:hover label.sk-toggleable__label-arrow:before {color: black;}#sk-container-id-7 div.sk-toggleable__content {max-height: 0;max-width: 0;overflow: hidden;text-align: left;background-color: #f0f8ff;}#sk-container-id-7 div.sk-toggleable__content pre {margin: 0.2em;color: black;border-radius: 0.25em;background-color: #f0f8ff;}#sk-container-id-7 input.sk-toggleable__control:checked~div.sk-toggleable__content {max-height: 200px;max-width: 100%;overflow: auto;}#sk-container-id-7 input.sk-toggleable__control:checked~label.sk-toggleable__label-arrow:before {content: \"▾\";}#sk-container-id-7 div.sk-estimator input.sk-toggleable__control:checked~label.sk-toggleable__label {background-color: #d4ebff;}#sk-container-id-7 div.sk-label input.sk-toggleable__control:checked~label.sk-toggleable__label {background-color: #d4ebff;}#sk-container-id-7 input.sk-hidden--visually {border: 0;clip: rect(1px 1px 1px 1px);clip: rect(1px, 1px, 1px, 1px);height: 1px;margin: -1px;overflow: hidden;padding: 0;position: absolute;width: 1px;}#sk-container-id-7 div.sk-estimator {font-family: monospace;background-color: #f0f8ff;border: 1px dotted black;border-radius: 0.25em;box-sizing: border-box;margin-bottom: 0.5em;}#sk-container-id-7 div.sk-estimator:hover {background-color: #d4ebff;}#sk-container-id-7 div.sk-parallel-item::after {content: \"\";width: 100%;border-bottom: 1px solid gray;flex-grow: 1;}#sk-container-id-7 div.sk-label:hover label.sk-toggleable__label {background-color: #d4ebff;}#sk-container-id-7 div.sk-serial::before {content: \"\";position: absolute;border-left: 1px solid gray;box-sizing: border-box;top: 0;bottom: 0;left: 50%;z-index: 0;}#sk-container-id-7 div.sk-serial {display: flex;flex-direction: column;align-items: center;background-color: white;padding-right: 0.2em;padding-left: 0.2em;position: relative;}#sk-container-id-7 div.sk-item {position: relative;z-index: 1;}#sk-container-id-7 div.sk-parallel {display: flex;align-items: stretch;justify-content: center;background-color: white;position: relative;}#sk-container-id-7 div.sk-item::before, #sk-container-id-7 div.sk-parallel-item::before {content: \"\";position: absolute;border-left: 1px solid gray;box-sizing: border-box;top: 0;bottom: 0;left: 50%;z-index: -1;}#sk-container-id-7 div.sk-parallel-item {display: flex;flex-direction: column;z-index: 1;position: relative;background-color: white;}#sk-container-id-7 div.sk-parallel-item:first-child::after {align-self: flex-end;width: 50%;}#sk-container-id-7 div.sk-parallel-item:last-child::after {align-self: flex-start;width: 50%;}#sk-container-id-7 div.sk-parallel-item:only-child::after {width: 0;}#sk-container-id-7 div.sk-dashed-wrapped {border: 1px dashed gray;margin: 0 0.4em 0.5em 0.4em;box-sizing: border-box;padding-bottom: 0.4em;background-color: white;}#sk-container-id-7 div.sk-label label {font-family: monospace;font-weight: bold;display: inline-block;line-height: 1.2em;}#sk-container-id-7 div.sk-label-container {text-align: center;}#sk-container-id-7 div.sk-container {/* jupyter's `normalize.less` sets `[hidden] { display: none; }` but bootstrap.min.css set `[hidden] { display: none !important; }` so we also need the `!important` here to be able to override the default hidden behavior on the sphinx rendered scikit-learn.org. See: https://github.com/scikit-learn/scikit-learn/issues/21755 */display: inline-block !important;position: relative;}#sk-container-id-7 div.sk-text-repr-fallback {display: none;}</style><div id=\"sk-container-id-7\" class=\"sk-top-container\"><div class=\"sk-text-repr-fallback\"><pre>RandomForestClassifier(n_estimators=200, random_state=42)</pre><b>In a Jupyter environment, please rerun this cell to show the HTML representation or trust the notebook. <br />On GitHub, the HTML representation is unable to render, please try loading this page with nbviewer.org.</b></div><div class=\"sk-container\" hidden><div class=\"sk-item\"><div class=\"sk-estimator sk-toggleable\"><input class=\"sk-toggleable__control sk-hidden--visually\" id=\"sk-estimator-id-15\" type=\"checkbox\" checked><label for=\"sk-estimator-id-15\" class=\"sk-toggleable__label sk-toggleable__label-arrow\">RandomForestClassifier</label><div class=\"sk-toggleable__content\"><pre>RandomForestClassifier(n_estimators=200, random_state=42)</pre></div></div></div></div></div>"
            ],
            "text/plain": [
              "RandomForestClassifier(n_estimators=200, random_state=42)"
            ]
          },
          "execution_count": 118,
          "metadata": {},
          "output_type": "execute_result"
        }
      ],
      "source": [
        "rf_model = RandomForestClassifier(n_estimators=200, random_state=42)\n",
        "rf_model.fit(X_vectorized, y)\n"
      ]
    },
    {
      "cell_type": "code",
      "execution_count": 119,
      "metadata": {},
      "outputs": [],
      "source": [
        "# Mendapatkan feature importance\n",
        "importances = rf_model.feature_importances_\n",
        "feature_names = vectorizer.get_feature_names_out()\n",
        "\n",
        "important_words_rf = pd.DataFrame({\n",
        "    'Word': feature_names,\n",
        "    'Importance': importances\n",
        "}).sort_values(by='Importance', ascending=False)"
      ]
    },
    {
      "cell_type": "code",
      "execution_count": 120,
      "metadata": {},
      "outputs": [
        {
          "name": "stdout",
          "output_type": "stream",
          "text": [
            "Top 20 Words Based on Feature Importance (Random Forest):\n",
            "          Word  Importance\n",
            "763    program    0.023916\n",
            "459  kurikulum    0.023167\n",
            "541        mas    0.022886\n",
            "231      ganti    0.021212\n",
            "261      hapus    0.020330\n",
            "45        anak    0.018507\n",
            "356     kampus    0.016264\n",
            "562    merdeka    0.015933\n",
            "517  mahasiswa    0.014990\n",
            "586       moga    0.012637\n",
            "250       guru    0.011939\n",
            "19        ajar    0.011392\n",
            "384    kembali    0.010891\n",
            "995         yg    0.010837\n",
            "84      bangga    0.010180\n",
            "999     zonasi    0.009543\n",
            "184      didik    0.009416\n",
            "537     mantap    0.009410\n",
            "398      keren    0.009257\n",
            "478     lanjut    0.009188\n"
          ]
        }
      ],
      "source": [
        "# Menampilkan 20 kata paling penting\n",
        "top_rf_words = important_words_rf.head(20)\n",
        "\n",
        "print(\"Top 20 Words Based on Feature Importance (Random Forest):\")\n",
        "print(top_rf_words)"
      ]
    },
    {
      "cell_type": "code",
      "execution_count": 124,
      "metadata": {},
      "outputs": [
        {
          "data": {
            "image/png": "[encoded data removed]",
            "text/plain": [
              "<Figure size 1200x800 with 1 Axes>"
            ]
          },
          "metadata": {},
          "output_type": "display_data"
        }
      ],
      "source": [
        "# Plot\n",
        "plt.figure(figsize=(12, 8))\n",
        "plt.barh(top_rf_words['Word'], top_rf_words['Importance'], color='gray')\n",
        "plt.title('Top 20 Important Words (Random Forest)')\n",
        "plt.xlabel('Importance')\n",
        "plt.ylabel('Word')\n",
        "plt.gca().invert_yaxis()\n",
        "plt.show()"
      ]
    }
  ],
  "metadata": {
    "colab": {
      "provenance": []
    },
    "kernelspec": {
      "display_name": "Python 3.10 (env)",
      "language": "python",
      "name": "env"
    },
    "language_info": {
      "codemirror_mode": {
        "name": "ipython",
        "version": 3
      },
      "file_extension": ".py",
      "mimetype": "text/x-python",
      "name": "python",
      "nbconvert_exporter": "python",
      "pygments_lexer": "ipython3",
      "version": "3.11.9"
    }
  },
  "nbformat": 4,
  "nbformat_minor": 0
}
